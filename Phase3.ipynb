{
 "cells": [
  {
   "cell_type": "markdown",
   "id": "e93a98d4",
   "metadata": {},
   "source": [
    "### Phase 3 \n",
    "##### April 10th, 2022\n",
    "#### Helen (Zhaolin) Li, Amaris (Jiayue) Han, Pie (Arisara) Vichitchoti, and Aaron (Yitian) Liang "
   ]
  },
  {
   "cell_type": "code",
   "execution_count": 1,
   "id": "fdc2f737",
   "metadata": {},
   "outputs": [],
   "source": [
    "import pandas as pd\n",
    "import numpy as np\n",
    "from sklearn.ensemble import RandomForestClassifier\n",
    "from sklearn.ensemble import RandomForestRegressor\n",
    "from sklearn.model_selection import train_test_split\n",
    "from sklearn.metrics import classification_report\n",
    "from sklearn.metrics import mean_squared_error\n",
    "import matplotlib.pyplot as plt\n",
    "import seaborn as sns\n",
    "from sklearn.model_selection import KFold\n",
    "from sklearn.model_selection import cross_val_score"
   ]
  },
  {
   "cell_type": "markdown",
   "id": "afd7e999",
   "metadata": {},
   "source": [
    "### RandomForestClassifier for Cardio dataset "
   ]
  },
  {
   "cell_type": "code",
   "execution_count": 2,
   "id": "6d9ebf15",
   "metadata": {},
   "outputs": [
    {
     "data": {
      "text/html": [
       "<div>\n",
       "<style scoped>\n",
       "    .dataframe tbody tr th:only-of-type {\n",
       "        vertical-align: middle;\n",
       "    }\n",
       "\n",
       "    .dataframe tbody tr th {\n",
       "        vertical-align: top;\n",
       "    }\n",
       "\n",
       "    .dataframe thead th {\n",
       "        text-align: right;\n",
       "    }\n",
       "</style>\n",
       "<table border=\"1\" class=\"dataframe\">\n",
       "  <thead>\n",
       "    <tr style=\"text-align: right;\">\n",
       "      <th></th>\n",
       "      <th>Unnamed: 0</th>\n",
       "      <th>id</th>\n",
       "      <th>age</th>\n",
       "      <th>gender</th>\n",
       "      <th>height</th>\n",
       "      <th>weight</th>\n",
       "      <th>ap_hi</th>\n",
       "      <th>ap_lo</th>\n",
       "      <th>cholesterol</th>\n",
       "      <th>gluc</th>\n",
       "      <th>smoke</th>\n",
       "      <th>alco</th>\n",
       "      <th>active</th>\n",
       "      <th>cardio</th>\n",
       "      <th>bp_cate</th>\n",
       "    </tr>\n",
       "  </thead>\n",
       "  <tbody>\n",
       "    <tr>\n",
       "      <th>0</th>\n",
       "      <td>1</td>\n",
       "      <td>1</td>\n",
       "      <td>55.419178</td>\n",
       "      <td>1</td>\n",
       "      <td>156</td>\n",
       "      <td>85.0</td>\n",
       "      <td>140</td>\n",
       "      <td>90</td>\n",
       "      <td>3</td>\n",
       "      <td>1</td>\n",
       "      <td>0</td>\n",
       "      <td>0</td>\n",
       "      <td>1</td>\n",
       "      <td>1</td>\n",
       "      <td>Hypertension stage 2</td>\n",
       "    </tr>\n",
       "    <tr>\n",
       "      <th>1</th>\n",
       "      <td>2</td>\n",
       "      <td>2</td>\n",
       "      <td>51.663014</td>\n",
       "      <td>1</td>\n",
       "      <td>165</td>\n",
       "      <td>64.0</td>\n",
       "      <td>130</td>\n",
       "      <td>70</td>\n",
       "      <td>3</td>\n",
       "      <td>1</td>\n",
       "      <td>0</td>\n",
       "      <td>0</td>\n",
       "      <td>0</td>\n",
       "      <td>1</td>\n",
       "      <td>Hypertension stage 1</td>\n",
       "    </tr>\n",
       "    <tr>\n",
       "      <th>2</th>\n",
       "      <td>3</td>\n",
       "      <td>3</td>\n",
       "      <td>48.282192</td>\n",
       "      <td>2</td>\n",
       "      <td>169</td>\n",
       "      <td>82.0</td>\n",
       "      <td>150</td>\n",
       "      <td>100</td>\n",
       "      <td>1</td>\n",
       "      <td>1</td>\n",
       "      <td>0</td>\n",
       "      <td>0</td>\n",
       "      <td>1</td>\n",
       "      <td>1</td>\n",
       "      <td>Hypertension stage 2</td>\n",
       "    </tr>\n",
       "    <tr>\n",
       "      <th>3</th>\n",
       "      <td>4</td>\n",
       "      <td>4</td>\n",
       "      <td>47.873973</td>\n",
       "      <td>1</td>\n",
       "      <td>156</td>\n",
       "      <td>56.0</td>\n",
       "      <td>100</td>\n",
       "      <td>60</td>\n",
       "      <td>1</td>\n",
       "      <td>1</td>\n",
       "      <td>0</td>\n",
       "      <td>0</td>\n",
       "      <td>0</td>\n",
       "      <td>0</td>\n",
       "      <td>Normal</td>\n",
       "    </tr>\n",
       "    <tr>\n",
       "      <th>4</th>\n",
       "      <td>5</td>\n",
       "      <td>8</td>\n",
       "      <td>60.038356</td>\n",
       "      <td>1</td>\n",
       "      <td>151</td>\n",
       "      <td>67.0</td>\n",
       "      <td>120</td>\n",
       "      <td>80</td>\n",
       "      <td>2</td>\n",
       "      <td>2</td>\n",
       "      <td>0</td>\n",
       "      <td>0</td>\n",
       "      <td>0</td>\n",
       "      <td>0</td>\n",
       "      <td>Normal</td>\n",
       "    </tr>\n",
       "    <tr>\n",
       "      <th>5</th>\n",
       "      <td>6</td>\n",
       "      <td>9</td>\n",
       "      <td>60.583562</td>\n",
       "      <td>1</td>\n",
       "      <td>157</td>\n",
       "      <td>93.0</td>\n",
       "      <td>130</td>\n",
       "      <td>80</td>\n",
       "      <td>3</td>\n",
       "      <td>1</td>\n",
       "      <td>0</td>\n",
       "      <td>0</td>\n",
       "      <td>1</td>\n",
       "      <td>0</td>\n",
       "      <td>Hypertension stage 1</td>\n",
       "    </tr>\n",
       "    <tr>\n",
       "      <th>6</th>\n",
       "      <td>7</td>\n",
       "      <td>12</td>\n",
       "      <td>61.873973</td>\n",
       "      <td>2</td>\n",
       "      <td>178</td>\n",
       "      <td>95.0</td>\n",
       "      <td>130</td>\n",
       "      <td>90</td>\n",
       "      <td>3</td>\n",
       "      <td>3</td>\n",
       "      <td>0</td>\n",
       "      <td>0</td>\n",
       "      <td>1</td>\n",
       "      <td>1</td>\n",
       "      <td>Hypertension stage 1</td>\n",
       "    </tr>\n",
       "    <tr>\n",
       "      <th>7</th>\n",
       "      <td>8</td>\n",
       "      <td>13</td>\n",
       "      <td>48.405479</td>\n",
       "      <td>1</td>\n",
       "      <td>158</td>\n",
       "      <td>71.0</td>\n",
       "      <td>110</td>\n",
       "      <td>70</td>\n",
       "      <td>1</td>\n",
       "      <td>1</td>\n",
       "      <td>0</td>\n",
       "      <td>0</td>\n",
       "      <td>1</td>\n",
       "      <td>0</td>\n",
       "      <td>Normal</td>\n",
       "    </tr>\n",
       "    <tr>\n",
       "      <th>8</th>\n",
       "      <td>9</td>\n",
       "      <td>14</td>\n",
       "      <td>54.339726</td>\n",
       "      <td>1</td>\n",
       "      <td>164</td>\n",
       "      <td>68.0</td>\n",
       "      <td>110</td>\n",
       "      <td>60</td>\n",
       "      <td>1</td>\n",
       "      <td>1</td>\n",
       "      <td>0</td>\n",
       "      <td>0</td>\n",
       "      <td>0</td>\n",
       "      <td>0</td>\n",
       "      <td>Normal</td>\n",
       "    </tr>\n",
       "    <tr>\n",
       "      <th>9</th>\n",
       "      <td>10</td>\n",
       "      <td>15</td>\n",
       "      <td>61.726027</td>\n",
       "      <td>1</td>\n",
       "      <td>169</td>\n",
       "      <td>80.0</td>\n",
       "      <td>120</td>\n",
       "      <td>80</td>\n",
       "      <td>1</td>\n",
       "      <td>1</td>\n",
       "      <td>0</td>\n",
       "      <td>0</td>\n",
       "      <td>1</td>\n",
       "      <td>0</td>\n",
       "      <td>Normal</td>\n",
       "    </tr>\n",
       "  </tbody>\n",
       "</table>\n",
       "</div>"
      ],
      "text/plain": [
       "   Unnamed: 0  id        age  gender  height  weight  ap_hi  ap_lo  \\\n",
       "0           1   1  55.419178       1     156    85.0    140     90   \n",
       "1           2   2  51.663014       1     165    64.0    130     70   \n",
       "2           3   3  48.282192       2     169    82.0    150    100   \n",
       "3           4   4  47.873973       1     156    56.0    100     60   \n",
       "4           5   8  60.038356       1     151    67.0    120     80   \n",
       "5           6   9  60.583562       1     157    93.0    130     80   \n",
       "6           7  12  61.873973       2     178    95.0    130     90   \n",
       "7           8  13  48.405479       1     158    71.0    110     70   \n",
       "8           9  14  54.339726       1     164    68.0    110     60   \n",
       "9          10  15  61.726027       1     169    80.0    120     80   \n",
       "\n",
       "   cholesterol  gluc  smoke  alco  active  cardio               bp_cate  \n",
       "0            3     1      0     0       1       1  Hypertension stage 2  \n",
       "1            3     1      0     0       0       1  Hypertension stage 1  \n",
       "2            1     1      0     0       1       1  Hypertension stage 2  \n",
       "3            1     1      0     0       0       0                Normal  \n",
       "4            2     2      0     0       0       0                Normal  \n",
       "5            3     1      0     0       1       0  Hypertension stage 1  \n",
       "6            3     3      0     0       1       1  Hypertension stage 1  \n",
       "7            1     1      0     0       1       0                Normal  \n",
       "8            1     1      0     0       0       0                Normal  \n",
       "9            1     1      0     0       1       0                Normal  "
      ]
     },
     "execution_count": 2,
     "metadata": {},
     "output_type": "execute_result"
    }
   ],
   "source": [
    "# Load the cardio data\n",
    "cvd_df = pd.read_csv('new_cardio_data.csv')\n",
    "cvd_df.head(10)"
   ]
  },
  {
   "cell_type": "code",
   "execution_count": 3,
   "id": "8c79e64d",
   "metadata": {},
   "outputs": [],
   "source": [
    "# Encode the bp_cate from categorical data to numeric data \n",
    "cvd_df[\"bp_cate\"] = cvd_df[\"bp_cate\"].astype('category')\n",
    "cvd_df[\"bp_level\"] = cvd_df[\"bp_cate\"].cat.rename_categories({\"Hypotension\": 0, \"Normal\": 1, \n",
    "                                               \"Elevated\": 2, \"Hypertension stage 1\": 3,\n",
    "                                                \"Hypertension stage 2\": 4})"
   ]
  },
  {
   "cell_type": "code",
   "execution_count": 4,
   "id": "c48f9e19",
   "metadata": {},
   "outputs": [],
   "source": [
    "# Drop a the first, the ap_hi, ap_lo, and bp_cate columns\n",
    "cvd= cvd_df.iloc[: , 1:].drop(['ap_hi', 'ap_lo','bp_cate'], axis = 1)"
   ]
  },
  {
   "cell_type": "code",
   "execution_count": 5,
   "id": "8fb16ec6",
   "metadata": {},
   "outputs": [],
   "source": [
    "# Convert the categorical type of bp_level back to numerical \n",
    "cvd[\"bp_level\"]  = cvd[\"bp_level\"].astype(int)"
   ]
  },
  {
   "cell_type": "code",
   "execution_count": 6,
   "id": "2a1907a1",
   "metadata": {},
   "outputs": [
    {
     "data": {
      "image/png": "[encoded data removed]",
      "text/plain": [
       "<Figure size 432x288 with 2 Axes>"
      ]
     },
     "metadata": {
      "needs_background": "light"
     },
     "output_type": "display_data"
    }
   ],
   "source": [
    "# Visualize the correlations between all numerical data \n",
    "plt.figure()\n",
    "sns.heatmap(cvd.corr(), cmap='coolwarm')\n",
    "# sns.catplot(x=\"cardio\", y=\"age\", kind=\"swarm\", data=cvd)\n",
    "plt.show()"
   ]
  },
  {
   "cell_type": "code",
   "execution_count": 7,
   "id": "0868c2ef",
   "metadata": {},
   "outputs": [],
   "source": [
    "# Split the data into training and test sets\n",
    "X = cvd[['age', 'gender','gluc', 'bp_level', 'weight','cholesterol']]\n",
    "y = cvd[\"cardio\"]\n",
    "\n",
    "\n",
    "X_train, X_test, y_train, y_test = train_test_split(X,\n",
    "                                                    y,\n",
    "                                                    test_size = 0.33,\n",
    "                                                    random_state = 7,\n",
    "                                                    stratify = y\n",
    "                                                   )"
   ]
  },
  {
   "cell_type": "markdown",
   "id": "683f6371",
   "metadata": {},
   "source": [
    "### RandomForestClassifier - CVD dataset"
   ]
  },
  {
   "cell_type": "code",
   "execution_count": 8,
   "id": "e73c7d9c",
   "metadata": {},
   "outputs": [
    {
     "data": {
      "text/plain": [
       "RandomForestClassifier(criterion='entropy', random_state=7)"
      ]
     },
     "execution_count": 8,
     "metadata": {},
     "output_type": "execute_result"
    }
   ],
   "source": [
    "# Build the classifier\n",
    "rf = RandomForestClassifier(criterion='entropy', n_estimators = 100, random_state = 7)\n",
    "rf.fit(X_train, y_train)"
   ]
  },
  {
   "cell_type": "code",
   "execution_count": 9,
   "id": "66c5afcc",
   "metadata": {},
   "outputs": [
    {
     "name": "stdout",
     "output_type": "stream",
     "text": [
      "The accuracy of the model is: 0.6509358926772363\n"
     ]
    }
   ],
   "source": [
    "# Predict the labels for the test set\n",
    "y_pred   = rf.predict(X_test)\n",
    "\n",
    "# Prediction accuracy\n",
    "print('The accuracy of the model is: {}'.format(rf.score(X_test, y_test)))"
   ]
  },
  {
   "cell_type": "code",
   "execution_count": 10,
   "id": "4671d886",
   "metadata": {},
   "outputs": [
    {
     "name": "stdout",
     "output_type": "stream",
     "text": [
      "              precision    recall  f1-score   support\n",
      "\n",
      "         CVD       0.66      0.64      0.65      9503\n",
      "      no CVD       0.64      0.66      0.65      9356\n",
      "\n",
      "    accuracy                           0.65     18859\n",
      "   macro avg       0.65      0.65      0.65     18859\n",
      "weighted avg       0.65      0.65      0.65     18859\n",
      "\n"
     ]
    }
   ],
   "source": [
    "# Get the classification report for the model \n",
    "y_pred = rf.predict(X_test)\n",
    "\n",
    "target_names = [\"CVD\", \"no CVD\"]\n",
    "print(classification_report(y_test, y_pred, target_names = target_names))"
   ]
  },
  {
   "cell_type": "code",
   "execution_count": 11,
   "id": "1f7343c1",
   "metadata": {},
   "outputs": [
    {
     "data": {
      "image/png": "[encoded data removed]",
      "text/plain": [
       "<Figure size 432x288 with 1 Axes>"
      ]
     },
     "metadata": {
      "needs_background": "light"
     },
     "output_type": "display_data"
    }
   ],
   "source": [
    "# Visualize the most important features that help predict the presence of CVDs. \n",
    "feat_importances = pd.Series(rf.feature_importances_, index=X.columns)\n",
    "feat_importances.nlargest(6).plot(kind='barh')\n",
    "plt.title(\"Selected features and their importance from the model prediction\")\n",
    "plt.xlabel(\"Importance\")\n",
    "plt.ylabel(\"Selected features\")\n",
    "plt.show()"
   ]
  },
  {
   "cell_type": "markdown",
   "id": "6575934a",
   "metadata": {},
   "source": [
    "### RandomForestRegression - CVD dataset"
   ]
  },
  {
   "cell_type": "code",
   "execution_count": 12,
   "id": "f854239c",
   "metadata": {},
   "outputs": [
    {
     "data": {
      "text/plain": [
       "RandomForestRegressor(n_estimators=500, random_state=7)"
      ]
     },
     "execution_count": 12,
     "metadata": {},
     "output_type": "execute_result"
    }
   ],
   "source": [
    "# Build the regressor\n",
    "rf = RandomForestRegressor(n_estimators = 500, random_state=7)\n",
    "rf.fit(X_train, y_train)"
   ]
  },
  {
   "cell_type": "code",
   "execution_count": 13,
   "id": "ccadb6c6",
   "metadata": {},
   "outputs": [
    {
     "name": "stdout",
     "output_type": "stream",
     "text": [
      "The probability of having cardio is: [0.622 0.964 0.112 ... 0.274 0.924 0.278]\n"
     ]
    }
   ],
   "source": [
    "# Predict the labels for the test set\n",
    "y_pred   = rf.predict(X_test)\n",
    "\n",
    "print('The probability of having cardio is: {}'.format(y_pred))"
   ]
  },
  {
   "cell_type": "code",
   "execution_count": 14,
   "id": "7cc12c7e",
   "metadata": {},
   "outputs": [
    {
     "name": "stdout",
     "output_type": "stream",
     "text": [
      "The mse of the model is: 0.2260579009509032\n"
     ]
    }
   ],
   "source": [
    "# Evaluate the Predictions\n",
    "mse = mean_squared_error(y_test, y_pred)\n",
    "\n",
    "print('The mse of the model is: {}'.format(mse))"
   ]
  },
  {
   "cell_type": "code",
   "execution_count": 15,
   "id": "9f8ce910",
   "metadata": {},
   "outputs": [],
   "source": [
    "# Add corresponding CVD predictions to the X_test dataframe \n",
    "pred_y = list(y_pred)\n",
    "X_test[\"P(cardio)\"] = pred_y"
   ]
  },
  {
   "cell_type": "code",
   "execution_count": 16,
   "id": "687505ff",
   "metadata": {},
   "outputs": [
    {
     "data": {
      "text/html": [
       "<div>\n",
       "<style scoped>\n",
       "    .dataframe tbody tr th:only-of-type {\n",
       "        vertical-align: middle;\n",
       "    }\n",
       "\n",
       "    .dataframe tbody tr th {\n",
       "        vertical-align: top;\n",
       "    }\n",
       "\n",
       "    .dataframe thead th {\n",
       "        text-align: right;\n",
       "    }\n",
       "</style>\n",
       "<table border=\"1\" class=\"dataframe\">\n",
       "  <thead>\n",
       "    <tr style=\"text-align: right;\">\n",
       "      <th></th>\n",
       "      <th>id</th>\n",
       "      <th>age</th>\n",
       "      <th>gender</th>\n",
       "      <th>height</th>\n",
       "      <th>weight</th>\n",
       "      <th>ap_hi</th>\n",
       "      <th>ap_lo</th>\n",
       "      <th>cholesterol</th>\n",
       "      <th>gluc</th>\n",
       "      <th>smoke</th>\n",
       "      <th>alco</th>\n",
       "      <th>active</th>\n",
       "      <th>cardio</th>\n",
       "      <th>bp_cate</th>\n",
       "      <th>bp_level</th>\n",
       "      <th>P(cardio)</th>\n",
       "    </tr>\n",
       "  </thead>\n",
       "  <tbody>\n",
       "    <tr>\n",
       "      <th>0</th>\n",
       "      <td>1</td>\n",
       "      <td>55.419178</td>\n",
       "      <td>1</td>\n",
       "      <td>156</td>\n",
       "      <td>85.0</td>\n",
       "      <td>140</td>\n",
       "      <td>90</td>\n",
       "      <td>3</td>\n",
       "      <td>1</td>\n",
       "      <td>0</td>\n",
       "      <td>0</td>\n",
       "      <td>1</td>\n",
       "      <td>1</td>\n",
       "      <td>Hypertension stage 2</td>\n",
       "      <td>4</td>\n",
       "      <td>0.780000</td>\n",
       "    </tr>\n",
       "    <tr>\n",
       "      <th>10</th>\n",
       "      <td>16</td>\n",
       "      <td>51.547945</td>\n",
       "      <td>2</td>\n",
       "      <td>173</td>\n",
       "      <td>60.0</td>\n",
       "      <td>120</td>\n",
       "      <td>80</td>\n",
       "      <td>1</td>\n",
       "      <td>1</td>\n",
       "      <td>0</td>\n",
       "      <td>0</td>\n",
       "      <td>1</td>\n",
       "      <td>0</td>\n",
       "      <td>Normal</td>\n",
       "      <td>1</td>\n",
       "      <td>0.371900</td>\n",
       "    </tr>\n",
       "    <tr>\n",
       "      <th>11</th>\n",
       "      <td>18</td>\n",
       "      <td>40.523288</td>\n",
       "      <td>2</td>\n",
       "      <td>165</td>\n",
       "      <td>60.0</td>\n",
       "      <td>120</td>\n",
       "      <td>80</td>\n",
       "      <td>1</td>\n",
       "      <td>1</td>\n",
       "      <td>0</td>\n",
       "      <td>0</td>\n",
       "      <td>0</td>\n",
       "      <td>0</td>\n",
       "      <td>Normal</td>\n",
       "      <td>1</td>\n",
       "      <td>0.056000</td>\n",
       "    </tr>\n",
       "    <tr>\n",
       "      <th>15</th>\n",
       "      <td>25</td>\n",
       "      <td>58.345205</td>\n",
       "      <td>1</td>\n",
       "      <td>170</td>\n",
       "      <td>75.0</td>\n",
       "      <td>130</td>\n",
       "      <td>70</td>\n",
       "      <td>1</td>\n",
       "      <td>1</td>\n",
       "      <td>0</td>\n",
       "      <td>0</td>\n",
       "      <td>0</td>\n",
       "      <td>0</td>\n",
       "      <td>Hypertension stage 1</td>\n",
       "      <td>3</td>\n",
       "      <td>0.356000</td>\n",
       "    </tr>\n",
       "    <tr>\n",
       "      <th>19</th>\n",
       "      <td>31</td>\n",
       "      <td>58.665753</td>\n",
       "      <td>1</td>\n",
       "      <td>157</td>\n",
       "      <td>69.0</td>\n",
       "      <td>130</td>\n",
       "      <td>80</td>\n",
       "      <td>1</td>\n",
       "      <td>1</td>\n",
       "      <td>0</td>\n",
       "      <td>0</td>\n",
       "      <td>1</td>\n",
       "      <td>0</td>\n",
       "      <td>Hypertension stage 1</td>\n",
       "      <td>3</td>\n",
       "      <td>0.274000</td>\n",
       "    </tr>\n",
       "    <tr>\n",
       "      <th>...</th>\n",
       "      <td>...</td>\n",
       "      <td>...</td>\n",
       "      <td>...</td>\n",
       "      <td>...</td>\n",
       "      <td>...</td>\n",
       "      <td>...</td>\n",
       "      <td>...</td>\n",
       "      <td>...</td>\n",
       "      <td>...</td>\n",
       "      <td>...</td>\n",
       "      <td>...</td>\n",
       "      <td>...</td>\n",
       "      <td>...</td>\n",
       "      <td>...</td>\n",
       "      <td>...</td>\n",
       "      <td>...</td>\n",
       "    </tr>\n",
       "    <tr>\n",
       "      <th>57131</th>\n",
       "      <td>99973</td>\n",
       "      <td>51.893151</td>\n",
       "      <td>1</td>\n",
       "      <td>153</td>\n",
       "      <td>86.0</td>\n",
       "      <td>130</td>\n",
       "      <td>90</td>\n",
       "      <td>1</td>\n",
       "      <td>2</td>\n",
       "      <td>0</td>\n",
       "      <td>0</td>\n",
       "      <td>1</td>\n",
       "      <td>1</td>\n",
       "      <td>Hypertension stage 1</td>\n",
       "      <td>3</td>\n",
       "      <td>0.316000</td>\n",
       "    </tr>\n",
       "    <tr>\n",
       "      <th>57132</th>\n",
       "      <td>99974</td>\n",
       "      <td>53.841096</td>\n",
       "      <td>1</td>\n",
       "      <td>165</td>\n",
       "      <td>72.0</td>\n",
       "      <td>120</td>\n",
       "      <td>80</td>\n",
       "      <td>1</td>\n",
       "      <td>1</td>\n",
       "      <td>0</td>\n",
       "      <td>0</td>\n",
       "      <td>1</td>\n",
       "      <td>0</td>\n",
       "      <td>Normal</td>\n",
       "      <td>1</td>\n",
       "      <td>0.032000</td>\n",
       "    </tr>\n",
       "    <tr>\n",
       "      <th>57137</th>\n",
       "      <td>99981</td>\n",
       "      <td>60.213699</td>\n",
       "      <td>1</td>\n",
       "      <td>160</td>\n",
       "      <td>59.0</td>\n",
       "      <td>110</td>\n",
       "      <td>70</td>\n",
       "      <td>1</td>\n",
       "      <td>1</td>\n",
       "      <td>0</td>\n",
       "      <td>0</td>\n",
       "      <td>1</td>\n",
       "      <td>0</td>\n",
       "      <td>Normal</td>\n",
       "      <td>1</td>\n",
       "      <td>0.341333</td>\n",
       "    </tr>\n",
       "    <tr>\n",
       "      <th>57142</th>\n",
       "      <td>99993</td>\n",
       "      <td>52.712329</td>\n",
       "      <td>2</td>\n",
       "      <td>168</td>\n",
       "      <td>76.0</td>\n",
       "      <td>120</td>\n",
       "      <td>80</td>\n",
       "      <td>1</td>\n",
       "      <td>1</td>\n",
       "      <td>1</td>\n",
       "      <td>0</td>\n",
       "      <td>1</td>\n",
       "      <td>0</td>\n",
       "      <td>Normal</td>\n",
       "      <td>1</td>\n",
       "      <td>0.056000</td>\n",
       "    </tr>\n",
       "    <tr>\n",
       "      <th>57145</th>\n",
       "      <td>99999</td>\n",
       "      <td>56.273973</td>\n",
       "      <td>1</td>\n",
       "      <td>170</td>\n",
       "      <td>72.0</td>\n",
       "      <td>120</td>\n",
       "      <td>80</td>\n",
       "      <td>2</td>\n",
       "      <td>1</td>\n",
       "      <td>0</td>\n",
       "      <td>0</td>\n",
       "      <td>1</td>\n",
       "      <td>0</td>\n",
       "      <td>Normal</td>\n",
       "      <td>1</td>\n",
       "      <td>0.292000</td>\n",
       "    </tr>\n",
       "  </tbody>\n",
       "</table>\n",
       "<p>18859 rows × 16 columns</p>\n",
       "</div>"
      ],
      "text/plain": [
       "          id        age  gender  height  weight  ap_hi  ap_lo  cholesterol  \\\n",
       "0          1  55.419178       1     156    85.0    140     90            3   \n",
       "10        16  51.547945       2     173    60.0    120     80            1   \n",
       "11        18  40.523288       2     165    60.0    120     80            1   \n",
       "15        25  58.345205       1     170    75.0    130     70            1   \n",
       "19        31  58.665753       1     157    69.0    130     80            1   \n",
       "...      ...        ...     ...     ...     ...    ...    ...          ...   \n",
       "57131  99973  51.893151       1     153    86.0    130     90            1   \n",
       "57132  99974  53.841096       1     165    72.0    120     80            1   \n",
       "57137  99981  60.213699       1     160    59.0    110     70            1   \n",
       "57142  99993  52.712329       2     168    76.0    120     80            1   \n",
       "57145  99999  56.273973       1     170    72.0    120     80            2   \n",
       "\n",
       "       gluc  smoke  alco  active  cardio               bp_cate bp_level  \\\n",
       "0         1      0     0       1       1  Hypertension stage 2        4   \n",
       "10        1      0     0       1       0                Normal        1   \n",
       "11        1      0     0       0       0                Normal        1   \n",
       "15        1      0     0       0       0  Hypertension stage 1        3   \n",
       "19        1      0     0       1       0  Hypertension stage 1        3   \n",
       "...     ...    ...   ...     ...     ...                   ...      ...   \n",
       "57131     2      0     0       1       1  Hypertension stage 1        3   \n",
       "57132     1      0     0       1       0                Normal        1   \n",
       "57137     1      0     0       1       0                Normal        1   \n",
       "57142     1      1     0       1       0                Normal        1   \n",
       "57145     1      0     0       1       0                Normal        1   \n",
       "\n",
       "       P(cardio)  \n",
       "0       0.780000  \n",
       "10      0.371900  \n",
       "11      0.056000  \n",
       "15      0.356000  \n",
       "19      0.274000  \n",
       "...          ...  \n",
       "57131   0.316000  \n",
       "57132   0.032000  \n",
       "57137   0.341333  \n",
       "57142   0.056000  \n",
       "57145   0.292000  \n",
       "\n",
       "[18859 rows x 16 columns]"
      ]
     },
     "execution_count": 16,
     "metadata": {},
     "output_type": "execute_result"
    }
   ],
   "source": [
    "# Merge the original cvd dataset and the X_test so we can locate the patient id and corresponding CVD possibility \n",
    "merged = pd.merge(left=cvd_df, left_index=True,\n",
    "                  right=X_test, right_index=True,\n",
    "                  how='inner', suffixes=('', '_remove'))\n",
    "# remove the duplicate columns\n",
    "merged.drop([i for i in merged.columns if 'remove' in i],\n",
    "               axis=1, inplace=True)\n",
    "\n",
    "# remove the \"Unnamed:0\" column\n",
    "merged.iloc[: , 1:]"
   ]
  },
  {
   "cell_type": "markdown",
   "id": "b4c6d2b1",
   "metadata": {},
   "source": [
    "### K-fold Cross Validation - CVD dataset "
   ]
  },
  {
   "cell_type": "code",
   "execution_count": 17,
   "id": "b9c8081d",
   "metadata": {},
   "outputs": [
    {
     "name": "stdout",
     "output_type": "stream",
     "text": [
      " The K-fold Cross-Validation model has a 0.65 accuracy with a standard deviation of 0.01\n"
     ]
    }
   ],
   "source": [
    "# Initiate K-fold CV \n",
    "cv = KFold(n_splits=10, random_state=1, shuffle=True)\n",
    "\n",
    "# Evaluate model\n",
    "scores = cross_val_score(RandomForestClassifier(), X, y, scoring='accuracy', cv=cv, n_jobs=-1)\n",
    "print(\" The K-fold Cross-Validation model has a %0.2f accuracy with a standard deviation of %0.2f\" % (scores.mean(), scores.std()))"
   ]
  },
  {
   "cell_type": "markdown",
   "id": "7cc94845",
   "metadata": {},
   "source": [
    "### SVM model (optional) - CVD dataset"
   ]
  },
  {
   "cell_type": "code",
   "execution_count": null,
   "id": "a00b204f",
   "metadata": {},
   "outputs": [],
   "source": []
  },
  {
   "cell_type": "markdown",
   "id": "574378ad",
   "metadata": {},
   "source": [
    ">Summary:"
   ]
  },
  {
   "cell_type": "markdown",
   "id": "8d2e2a33",
   "metadata": {},
   "source": [
    "### Stroke Dataset"
   ]
  },
  {
   "cell_type": "code",
   "execution_count": 22,
   "id": "ef4c09bb",
   "metadata": {},
   "outputs": [
    {
     "data": {
      "text/html": [
       "<div>\n",
       "<style scoped>\n",
       "    .dataframe tbody tr th:only-of-type {\n",
       "        vertical-align: middle;\n",
       "    }\n",
       "\n",
       "    .dataframe tbody tr th {\n",
       "        vertical-align: top;\n",
       "    }\n",
       "\n",
       "    .dataframe thead th {\n",
       "        text-align: right;\n",
       "    }\n",
       "</style>\n",
       "<table border=\"1\" class=\"dataframe\">\n",
       "  <thead>\n",
       "    <tr style=\"text-align: right;\">\n",
       "      <th></th>\n",
       "      <th>Unnamed: 0</th>\n",
       "      <th>id</th>\n",
       "      <th>gender</th>\n",
       "      <th>age</th>\n",
       "      <th>hypertension</th>\n",
       "      <th>heart_disease</th>\n",
       "      <th>ever_married</th>\n",
       "      <th>work_type</th>\n",
       "      <th>Residence_type</th>\n",
       "      <th>avg_glucose_level</th>\n",
       "      <th>bmi</th>\n",
       "      <th>smoking_status</th>\n",
       "      <th>stroke</th>\n",
       "    </tr>\n",
       "  </thead>\n",
       "  <tbody>\n",
       "    <tr>\n",
       "      <th>0</th>\n",
       "      <td>0</td>\n",
       "      <td>9046</td>\n",
       "      <td>Male</td>\n",
       "      <td>67.0</td>\n",
       "      <td>0</td>\n",
       "      <td>1</td>\n",
       "      <td>Yes</td>\n",
       "      <td>Private</td>\n",
       "      <td>Urban</td>\n",
       "      <td>228.69</td>\n",
       "      <td>36.6</td>\n",
       "      <td>formerly smoked</td>\n",
       "      <td>1</td>\n",
       "    </tr>\n",
       "    <tr>\n",
       "      <th>1</th>\n",
       "      <td>2</td>\n",
       "      <td>31112</td>\n",
       "      <td>Male</td>\n",
       "      <td>80.0</td>\n",
       "      <td>0</td>\n",
       "      <td>1</td>\n",
       "      <td>Yes</td>\n",
       "      <td>Private</td>\n",
       "      <td>Rural</td>\n",
       "      <td>105.92</td>\n",
       "      <td>32.5</td>\n",
       "      <td>never smoked</td>\n",
       "      <td>1</td>\n",
       "    </tr>\n",
       "    <tr>\n",
       "      <th>2</th>\n",
       "      <td>3</td>\n",
       "      <td>60182</td>\n",
       "      <td>Female</td>\n",
       "      <td>49.0</td>\n",
       "      <td>0</td>\n",
       "      <td>0</td>\n",
       "      <td>Yes</td>\n",
       "      <td>Private</td>\n",
       "      <td>Urban</td>\n",
       "      <td>171.23</td>\n",
       "      <td>34.4</td>\n",
       "      <td>smokes</td>\n",
       "      <td>1</td>\n",
       "    </tr>\n",
       "    <tr>\n",
       "      <th>3</th>\n",
       "      <td>4</td>\n",
       "      <td>1665</td>\n",
       "      <td>Female</td>\n",
       "      <td>79.0</td>\n",
       "      <td>1</td>\n",
       "      <td>0</td>\n",
       "      <td>Yes</td>\n",
       "      <td>Self-employed</td>\n",
       "      <td>Rural</td>\n",
       "      <td>174.12</td>\n",
       "      <td>24.0</td>\n",
       "      <td>never smoked</td>\n",
       "      <td>1</td>\n",
       "    </tr>\n",
       "    <tr>\n",
       "      <th>4</th>\n",
       "      <td>5</td>\n",
       "      <td>56669</td>\n",
       "      <td>Male</td>\n",
       "      <td>81.0</td>\n",
       "      <td>0</td>\n",
       "      <td>0</td>\n",
       "      <td>Yes</td>\n",
       "      <td>Private</td>\n",
       "      <td>Urban</td>\n",
       "      <td>186.21</td>\n",
       "      <td>29.0</td>\n",
       "      <td>formerly smoked</td>\n",
       "      <td>1</td>\n",
       "    </tr>\n",
       "    <tr>\n",
       "      <th>5</th>\n",
       "      <td>6</td>\n",
       "      <td>53882</td>\n",
       "      <td>Male</td>\n",
       "      <td>74.0</td>\n",
       "      <td>1</td>\n",
       "      <td>1</td>\n",
       "      <td>Yes</td>\n",
       "      <td>Private</td>\n",
       "      <td>Rural</td>\n",
       "      <td>70.09</td>\n",
       "      <td>27.4</td>\n",
       "      <td>never smoked</td>\n",
       "      <td>1</td>\n",
       "    </tr>\n",
       "    <tr>\n",
       "      <th>6</th>\n",
       "      <td>7</td>\n",
       "      <td>10434</td>\n",
       "      <td>Female</td>\n",
       "      <td>69.0</td>\n",
       "      <td>0</td>\n",
       "      <td>0</td>\n",
       "      <td>No</td>\n",
       "      <td>Private</td>\n",
       "      <td>Urban</td>\n",
       "      <td>94.39</td>\n",
       "      <td>22.8</td>\n",
       "      <td>never smoked</td>\n",
       "      <td>1</td>\n",
       "    </tr>\n",
       "    <tr>\n",
       "      <th>7</th>\n",
       "      <td>9</td>\n",
       "      <td>60491</td>\n",
       "      <td>Female</td>\n",
       "      <td>78.0</td>\n",
       "      <td>0</td>\n",
       "      <td>0</td>\n",
       "      <td>Yes</td>\n",
       "      <td>Private</td>\n",
       "      <td>Urban</td>\n",
       "      <td>58.57</td>\n",
       "      <td>24.2</td>\n",
       "      <td>Unknown</td>\n",
       "      <td>1</td>\n",
       "    </tr>\n",
       "    <tr>\n",
       "      <th>8</th>\n",
       "      <td>10</td>\n",
       "      <td>12109</td>\n",
       "      <td>Female</td>\n",
       "      <td>81.0</td>\n",
       "      <td>1</td>\n",
       "      <td>0</td>\n",
       "      <td>Yes</td>\n",
       "      <td>Private</td>\n",
       "      <td>Rural</td>\n",
       "      <td>80.43</td>\n",
       "      <td>29.7</td>\n",
       "      <td>never smoked</td>\n",
       "      <td>1</td>\n",
       "    </tr>\n",
       "    <tr>\n",
       "      <th>9</th>\n",
       "      <td>11</td>\n",
       "      <td>12095</td>\n",
       "      <td>Female</td>\n",
       "      <td>61.0</td>\n",
       "      <td>0</td>\n",
       "      <td>1</td>\n",
       "      <td>Yes</td>\n",
       "      <td>Govt_job</td>\n",
       "      <td>Rural</td>\n",
       "      <td>120.46</td>\n",
       "      <td>36.8</td>\n",
       "      <td>smokes</td>\n",
       "      <td>1</td>\n",
       "    </tr>\n",
       "  </tbody>\n",
       "</table>\n",
       "</div>"
      ],
      "text/plain": [
       "   Unnamed: 0     id  gender   age  hypertension  heart_disease ever_married  \\\n",
       "0           0   9046    Male  67.0             0              1          Yes   \n",
       "1           2  31112    Male  80.0             0              1          Yes   \n",
       "2           3  60182  Female  49.0             0              0          Yes   \n",
       "3           4   1665  Female  79.0             1              0          Yes   \n",
       "4           5  56669    Male  81.0             0              0          Yes   \n",
       "5           6  53882    Male  74.0             1              1          Yes   \n",
       "6           7  10434  Female  69.0             0              0           No   \n",
       "7           9  60491  Female  78.0             0              0          Yes   \n",
       "8          10  12109  Female  81.0             1              0          Yes   \n",
       "9          11  12095  Female  61.0             0              1          Yes   \n",
       "\n",
       "       work_type Residence_type  avg_glucose_level   bmi   smoking_status  \\\n",
       "0        Private          Urban             228.69  36.6  formerly smoked   \n",
       "1        Private          Rural             105.92  32.5     never smoked   \n",
       "2        Private          Urban             171.23  34.4           smokes   \n",
       "3  Self-employed          Rural             174.12  24.0     never smoked   \n",
       "4        Private          Urban             186.21  29.0  formerly smoked   \n",
       "5        Private          Rural              70.09  27.4     never smoked   \n",
       "6        Private          Urban              94.39  22.8     never smoked   \n",
       "7        Private          Urban              58.57  24.2          Unknown   \n",
       "8        Private          Rural              80.43  29.7     never smoked   \n",
       "9       Govt_job          Rural             120.46  36.8           smokes   \n",
       "\n",
       "   stroke  \n",
       "0       1  \n",
       "1       1  \n",
       "2       1  \n",
       "3       1  \n",
       "4       1  \n",
       "5       1  \n",
       "6       1  \n",
       "7       1  \n",
       "8       1  \n",
       "9       1  "
      ]
     },
     "execution_count": 22,
     "metadata": {},
     "output_type": "execute_result"
    }
   ],
   "source": [
    "# import EDA stroke data\n",
    "stroke_df = pd.read_csv('new_stroke_data.csv')\n",
    "stroke_df.head(10)"
   ]
  },
  {
   "cell_type": "code",
   "execution_count": 41,
   "id": "04401f7c",
   "metadata": {},
   "outputs": [
    {
     "data": {
      "image/png": "[encoded data removed]",
      "text/plain": [
       "<Figure size 432x288 with 2 Axes>"
      ]
     },
     "metadata": {
      "needs_background": "light"
     },
     "output_type": "display_data"
    }
   ],
   "source": [
    "# Visualize the correlations between all numerical data \n",
    "plt.figure()\n",
    "sns.heatmap(stroke_df.corr(), cmap='coolwarm')\n",
    "plt.show()"
   ]
  },
  {
   "cell_type": "code",
   "execution_count": 25,
   "id": "f6f9ee47",
   "metadata": {},
   "outputs": [],
   "source": [
    "# Split the data into training and test sets\n",
    "X = stroke_df[['age', 'hypertension','heart_disease', 'avg_glucose_level']]\n",
    "y = stroke_df[\"stroke\"]\n",
    "\n",
    "\n",
    "X_train, X_test, y_train, y_test = train_test_split(X,\n",
    "                                                    y,\n",
    "                                                    test_size = 0.33,\n",
    "                                                    random_state = 7,\n",
    "                                                    stratify = y\n",
    "                                                   )"
   ]
  },
  {
   "cell_type": "markdown",
   "id": "9f01be13",
   "metadata": {},
   "source": [
    "### RandomForestClassifier - stroke dataset"
   ]
  },
  {
   "cell_type": "code",
   "execution_count": 43,
   "id": "676afd20",
   "metadata": {},
   "outputs": [
    {
     "data": {
      "text/plain": [
       "RandomForestClassifier(criterion='entropy', random_state=7)"
      ]
     },
     "execution_count": 43,
     "metadata": {},
     "output_type": "execute_result"
    }
   ],
   "source": [
    "# Build the classifier\n",
    "rf = RandomForestClassifier(criterion='entropy', n_estimators = 100, random_state = 7)\n",
    "rf.fit(X_train, y_train)"
   ]
  },
  {
   "cell_type": "code",
   "execution_count": 44,
   "id": "65dcd1d1",
   "metadata": {},
   "outputs": [
    {
     "name": "stdout",
     "output_type": "stream",
     "text": [
      "The accuracy of the model is: 0.9487654320987654\n"
     ]
    }
   ],
   "source": [
    "# Predict the labels for the test set\n",
    "y_pred   = rf.predict(X_test)\n",
    "\n",
    "# Prediction accuracy\n",
    "print('The accuracy of the model is: {}'.format(rf.score(X_test, y_test)))"
   ]
  },
  {
   "cell_type": "code",
   "execution_count": 45,
   "id": "ec1366b9",
   "metadata": {},
   "outputs": [
    {
     "name": "stdout",
     "output_type": "stream",
     "text": [
      "              precision    recall  f1-score   support\n",
      "\n",
      "  Non Stroke       0.96      0.99      0.97      1551\n",
      "      Stroke       0.06      0.01      0.02        69\n",
      "\n",
      "    accuracy                           0.95      1620\n",
      "   macro avg       0.51      0.50      0.50      1620\n",
      "weighted avg       0.92      0.95      0.93      1620\n",
      "\n"
     ]
    }
   ],
   "source": [
    "# Get the classification report for the model \n",
    "y_pred = rf.predict(X_test)\n",
    "\n",
    "target_names = ['Non Stroke','Stroke']\n",
    "print(classification_report(y_test, y_pred, target_names = target_names))"
   ]
  },
  {
   "cell_type": "code",
   "execution_count": 46,
   "id": "9b3cbf74",
   "metadata": {},
   "outputs": [
    {
     "data": {
      "image/png": "[encoded data removed]",
      "text/plain": [
       "<Figure size 432x288 with 1 Axes>"
      ]
     },
     "metadata": {
      "needs_background": "light"
     },
     "output_type": "display_data"
    }
   ],
   "source": [
    "# Visualize the most important features that help predict the presence of stroke. \n",
    "feat_importances = pd.Series(rf.feature_importances_, index=X.columns)\n",
    "feat_importances.nlargest(6).plot(kind='barh')\n",
    "plt.title(\"Selected features and their importance from the model prediction\")\n",
    "plt.xlabel(\"Importance\")\n",
    "plt.ylabel(\"Selected features\")\n",
    "plt.show()"
   ]
  },
  {
   "cell_type": "markdown",
   "id": "07abc0d4",
   "metadata": {},
   "source": [
    "### RandomForestRegression - stroke dataset"
   ]
  },
  {
   "cell_type": "code",
   "execution_count": 47,
   "id": "ab92954b",
   "metadata": {},
   "outputs": [
    {
     "data": {
      "text/plain": [
       "RandomForestRegressor(n_estimators=500, random_state=7)"
      ]
     },
     "execution_count": 47,
     "metadata": {},
     "output_type": "execute_result"
    }
   ],
   "source": [
    "# Build the regressor\n",
    "rf = RandomForestRegressor(n_estimators = 500, random_state=7)\n",
    "rf.fit(X_train, y_train)"
   ]
  },
  {
   "cell_type": "code",
   "execution_count": 48,
   "id": "3bace684",
   "metadata": {},
   "outputs": [
    {
     "name": "stdout",
     "output_type": "stream",
     "text": [
      "The probability of having stroke is: [0. 0. 0. ... 0. 0. 0.]\n"
     ]
    }
   ],
   "source": [
    "# Predict the labels for the test set\n",
    "y_pred   = rf.predict(X_test)\n",
    "\n",
    "print('The probability of having stroke is: {}'.format(y_pred))"
   ]
  },
  {
   "cell_type": "code",
   "execution_count": 49,
   "id": "2eaea730",
   "metadata": {},
   "outputs": [
    {
     "name": "stdout",
     "output_type": "stream",
     "text": [
      "The mse of the model is: 0.046679814814814806\n"
     ]
    }
   ],
   "source": [
    "# Evaluate the Predictions\n",
    "mse = mean_squared_error(y_test, y_pred)\n",
    "\n",
    "print('The mse of the model is: {}'.format(mse))"
   ]
  },
  {
   "cell_type": "markdown",
   "id": "4413e213",
   "metadata": {},
   "source": [
    "### K-fold Cross Validation - stroke dataset "
   ]
  },
  {
   "cell_type": "code",
   "execution_count": 50,
   "id": "0fd56052",
   "metadata": {},
   "outputs": [
    {
     "name": "stdout",
     "output_type": "stream",
     "text": [
      " The K-fold Cross-Validation model has a 0.95 accuracy with a standard deviation of 0.01\n"
     ]
    }
   ],
   "source": [
    "# Initiate K-fold CV \n",
    "cv = KFold(n_splits=10, random_state=1, shuffle=True)\n",
    "\n",
    "# Evaluate model\n",
    "scores = cross_val_score(RandomForestClassifier(), X, y, scoring='accuracy', cv=cv, n_jobs=-1)\n",
    "print(\" The K-fold Cross-Validation model has a %0.2f accuracy with a standard deviation of %0.2f\" % (scores.mean(), scores.std()))"
   ]
  },
  {
   "cell_type": "code",
   "execution_count": null,
   "id": "e0167b0f",
   "metadata": {},
   "outputs": [],
   "source": []
  }
 ],
 "metadata": {
  "kernelspec": {
   "display_name": "Python 3 (ipykernel)",
   "language": "python",
   "name": "python3"
  },
  "language_info": {
   "codemirror_mode": {
    "name": "ipython",
    "version": 3
   },
   "file_extension": ".py",
   "mimetype": "text/x-python",
   "name": "python",
   "nbconvert_exporter": "python",
   "pygments_lexer": "ipython3",
   "version": "3.8.12"
  }
 },
 "nbformat": 4,
 "nbformat_minor": 5
}
