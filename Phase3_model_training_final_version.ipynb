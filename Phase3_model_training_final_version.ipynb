{
 "cells": [
  {
   "cell_type": "markdown",
   "id": "e93a98d4",
   "metadata": {},
   "source": [
    "### Phase 3 \n",
    "##### April 10th, 2022\n",
    "#### Helen (Zhaolin) Li, Amaris (Jiayue) Han, Pie (Arisara) Vichitchoti, and Aaron (Yitian) Liang "
   ]
  },
  {
   "cell_type": "markdown",
   "id": "a134ce4b",
   "metadata": {},
   "source": [
    "#### We used a separate Jupyter notebook to do model training on our datasets because we think it is more organized to divide EDA and model training phases into two. "
   ]
  },
  {
   "cell_type": "code",
   "execution_count": 1,
   "id": "fdc2f737",
   "metadata": {},
   "outputs": [],
   "source": [
    "import pandas as pd\n",
    "import numpy as np\n",
    "from sklearn.svm import SVC\n",
    "from sklearn.ensemble import RandomForestClassifier\n",
    "from sklearn.ensemble import RandomForestRegressor\n",
    "from sklearn.model_selection import train_test_split\n",
    "from sklearn.metrics import classification_report\n",
    "from sklearn.metrics import mean_squared_error\n",
    "from sklearn.preprocessing import StandardScaler\n",
    "from sklearn.model_selection import GridSearchCV\n",
    "import matplotlib.pyplot as plt\n",
    "import seaborn as sns\n",
    "from sklearn.model_selection import KFold\n",
    "from sklearn.model_selection import cross_val_score"
   ]
  },
  {
   "cell_type": "markdown",
   "id": "afd7e999",
   "metadata": {},
   "source": [
    "### RandomForestClassifier - CVD dataset "
   ]
  },
  {
   "cell_type": "code",
   "execution_count": 2,
   "id": "6d9ebf15",
   "metadata": {},
   "outputs": [
    {
     "data": {
      "text/html": [
       "<div>\n",
       "<style scoped>\n",
       "    .dataframe tbody tr th:only-of-type {\n",
       "        vertical-align: middle;\n",
       "    }\n",
       "\n",
       "    .dataframe tbody tr th {\n",
       "        vertical-align: top;\n",
       "    }\n",
       "\n",
       "    .dataframe thead th {\n",
       "        text-align: right;\n",
       "    }\n",
       "</style>\n",
       "<table border=\"1\" class=\"dataframe\">\n",
       "  <thead>\n",
       "    <tr style=\"text-align: right;\">\n",
       "      <th></th>\n",
       "      <th>Unnamed: 0</th>\n",
       "      <th>id</th>\n",
       "      <th>age</th>\n",
       "      <th>gender</th>\n",
       "      <th>height</th>\n",
       "      <th>weight</th>\n",
       "      <th>ap_hi</th>\n",
       "      <th>ap_lo</th>\n",
       "      <th>cholesterol</th>\n",
       "      <th>gluc</th>\n",
       "      <th>smoke</th>\n",
       "      <th>alco</th>\n",
       "      <th>active</th>\n",
       "      <th>cardio</th>\n",
       "      <th>bp_cate</th>\n",
       "    </tr>\n",
       "  </thead>\n",
       "  <tbody>\n",
       "    <tr>\n",
       "      <th>0</th>\n",
       "      <td>1</td>\n",
       "      <td>1</td>\n",
       "      <td>55.419178</td>\n",
       "      <td>1</td>\n",
       "      <td>156</td>\n",
       "      <td>85.0</td>\n",
       "      <td>140</td>\n",
       "      <td>90</td>\n",
       "      <td>3</td>\n",
       "      <td>1</td>\n",
       "      <td>0</td>\n",
       "      <td>0</td>\n",
       "      <td>1</td>\n",
       "      <td>1</td>\n",
       "      <td>Hypertension stage 2</td>\n",
       "    </tr>\n",
       "    <tr>\n",
       "      <th>1</th>\n",
       "      <td>2</td>\n",
       "      <td>2</td>\n",
       "      <td>51.663014</td>\n",
       "      <td>1</td>\n",
       "      <td>165</td>\n",
       "      <td>64.0</td>\n",
       "      <td>130</td>\n",
       "      <td>70</td>\n",
       "      <td>3</td>\n",
       "      <td>1</td>\n",
       "      <td>0</td>\n",
       "      <td>0</td>\n",
       "      <td>0</td>\n",
       "      <td>1</td>\n",
       "      <td>Hypertension stage 1</td>\n",
       "    </tr>\n",
       "    <tr>\n",
       "      <th>2</th>\n",
       "      <td>3</td>\n",
       "      <td>3</td>\n",
       "      <td>48.282192</td>\n",
       "      <td>2</td>\n",
       "      <td>169</td>\n",
       "      <td>82.0</td>\n",
       "      <td>150</td>\n",
       "      <td>100</td>\n",
       "      <td>1</td>\n",
       "      <td>1</td>\n",
       "      <td>0</td>\n",
       "      <td>0</td>\n",
       "      <td>1</td>\n",
       "      <td>1</td>\n",
       "      <td>Hypertension stage 2</td>\n",
       "    </tr>\n",
       "    <tr>\n",
       "      <th>3</th>\n",
       "      <td>4</td>\n",
       "      <td>4</td>\n",
       "      <td>47.873973</td>\n",
       "      <td>1</td>\n",
       "      <td>156</td>\n",
       "      <td>56.0</td>\n",
       "      <td>100</td>\n",
       "      <td>60</td>\n",
       "      <td>1</td>\n",
       "      <td>1</td>\n",
       "      <td>0</td>\n",
       "      <td>0</td>\n",
       "      <td>0</td>\n",
       "      <td>0</td>\n",
       "      <td>Normal</td>\n",
       "    </tr>\n",
       "    <tr>\n",
       "      <th>4</th>\n",
       "      <td>5</td>\n",
       "      <td>8</td>\n",
       "      <td>60.038356</td>\n",
       "      <td>1</td>\n",
       "      <td>151</td>\n",
       "      <td>67.0</td>\n",
       "      <td>120</td>\n",
       "      <td>80</td>\n",
       "      <td>2</td>\n",
       "      <td>2</td>\n",
       "      <td>0</td>\n",
       "      <td>0</td>\n",
       "      <td>0</td>\n",
       "      <td>0</td>\n",
       "      <td>Normal</td>\n",
       "    </tr>\n",
       "    <tr>\n",
       "      <th>5</th>\n",
       "      <td>6</td>\n",
       "      <td>9</td>\n",
       "      <td>60.583562</td>\n",
       "      <td>1</td>\n",
       "      <td>157</td>\n",
       "      <td>93.0</td>\n",
       "      <td>130</td>\n",
       "      <td>80</td>\n",
       "      <td>3</td>\n",
       "      <td>1</td>\n",
       "      <td>0</td>\n",
       "      <td>0</td>\n",
       "      <td>1</td>\n",
       "      <td>0</td>\n",
       "      <td>Hypertension stage 1</td>\n",
       "    </tr>\n",
       "    <tr>\n",
       "      <th>6</th>\n",
       "      <td>7</td>\n",
       "      <td>12</td>\n",
       "      <td>61.873973</td>\n",
       "      <td>2</td>\n",
       "      <td>178</td>\n",
       "      <td>95.0</td>\n",
       "      <td>130</td>\n",
       "      <td>90</td>\n",
       "      <td>3</td>\n",
       "      <td>3</td>\n",
       "      <td>0</td>\n",
       "      <td>0</td>\n",
       "      <td>1</td>\n",
       "      <td>1</td>\n",
       "      <td>Hypertension stage 1</td>\n",
       "    </tr>\n",
       "    <tr>\n",
       "      <th>7</th>\n",
       "      <td>8</td>\n",
       "      <td>13</td>\n",
       "      <td>48.405479</td>\n",
       "      <td>1</td>\n",
       "      <td>158</td>\n",
       "      <td>71.0</td>\n",
       "      <td>110</td>\n",
       "      <td>70</td>\n",
       "      <td>1</td>\n",
       "      <td>1</td>\n",
       "      <td>0</td>\n",
       "      <td>0</td>\n",
       "      <td>1</td>\n",
       "      <td>0</td>\n",
       "      <td>Normal</td>\n",
       "    </tr>\n",
       "    <tr>\n",
       "      <th>8</th>\n",
       "      <td>9</td>\n",
       "      <td>14</td>\n",
       "      <td>54.339726</td>\n",
       "      <td>1</td>\n",
       "      <td>164</td>\n",
       "      <td>68.0</td>\n",
       "      <td>110</td>\n",
       "      <td>60</td>\n",
       "      <td>1</td>\n",
       "      <td>1</td>\n",
       "      <td>0</td>\n",
       "      <td>0</td>\n",
       "      <td>0</td>\n",
       "      <td>0</td>\n",
       "      <td>Normal</td>\n",
       "    </tr>\n",
       "    <tr>\n",
       "      <th>9</th>\n",
       "      <td>10</td>\n",
       "      <td>15</td>\n",
       "      <td>61.726027</td>\n",
       "      <td>1</td>\n",
       "      <td>169</td>\n",
       "      <td>80.0</td>\n",
       "      <td>120</td>\n",
       "      <td>80</td>\n",
       "      <td>1</td>\n",
       "      <td>1</td>\n",
       "      <td>0</td>\n",
       "      <td>0</td>\n",
       "      <td>1</td>\n",
       "      <td>0</td>\n",
       "      <td>Normal</td>\n",
       "    </tr>\n",
       "  </tbody>\n",
       "</table>\n",
       "</div>"
      ],
      "text/plain": [
       "   Unnamed: 0  id        age  gender  height  weight  ap_hi  ap_lo  \\\n",
       "0           1   1  55.419178       1     156    85.0    140     90   \n",
       "1           2   2  51.663014       1     165    64.0    130     70   \n",
       "2           3   3  48.282192       2     169    82.0    150    100   \n",
       "3           4   4  47.873973       1     156    56.0    100     60   \n",
       "4           5   8  60.038356       1     151    67.0    120     80   \n",
       "5           6   9  60.583562       1     157    93.0    130     80   \n",
       "6           7  12  61.873973       2     178    95.0    130     90   \n",
       "7           8  13  48.405479       1     158    71.0    110     70   \n",
       "8           9  14  54.339726       1     164    68.0    110     60   \n",
       "9          10  15  61.726027       1     169    80.0    120     80   \n",
       "\n",
       "   cholesterol  gluc  smoke  alco  active  cardio               bp_cate  \n",
       "0            3     1      0     0       1       1  Hypertension stage 2  \n",
       "1            3     1      0     0       0       1  Hypertension stage 1  \n",
       "2            1     1      0     0       1       1  Hypertension stage 2  \n",
       "3            1     1      0     0       0       0                Normal  \n",
       "4            2     2      0     0       0       0                Normal  \n",
       "5            3     1      0     0       1       0  Hypertension stage 1  \n",
       "6            3     3      0     0       1       1  Hypertension stage 1  \n",
       "7            1     1      0     0       1       0                Normal  \n",
       "8            1     1      0     0       0       0                Normal  \n",
       "9            1     1      0     0       1       0                Normal  "
      ]
     },
     "execution_count": 2,
     "metadata": {},
     "output_type": "execute_result"
    }
   ],
   "source": [
    "# Load the cardio data\n",
    "cvd_df = pd.read_csv('new_cardio_data.csv')\n",
    "cvd_df.head(10)"
   ]
  },
  {
   "cell_type": "code",
   "execution_count": 3,
   "id": "8c79e64d",
   "metadata": {},
   "outputs": [],
   "source": [
    "# Encode the bp_cate from categorical data to numeric data \n",
    "cvd_df[\"bp_cate\"] = cvd_df[\"bp_cate\"].astype('category')\n",
    "cvd_df[\"bp_level\"] = cvd_df[\"bp_cate\"].cat.rename_categories({\"Hypotension\": 0, \"Normal\": 1, \n",
    "                                               \"Elevated\": 2, \"Hypertension stage 1\": 3,\n",
    "                                                \"Hypertension stage 2\": 4})"
   ]
  },
  {
   "cell_type": "code",
   "execution_count": 4,
   "id": "c48f9e19",
   "metadata": {},
   "outputs": [],
   "source": [
    "# Drop a the first, the ap_hi, ap_lo, and bp_cate columns\n",
    "cvd= cvd_df.iloc[: , 1:].drop(['ap_hi', 'ap_lo','bp_cate'], axis = 1)"
   ]
  },
  {
   "cell_type": "code",
   "execution_count": 5,
   "id": "8fb16ec6",
   "metadata": {},
   "outputs": [],
   "source": [
    "# Convert the categorical type of bp_level back to numerical \n",
    "cvd[\"bp_level\"]  = cvd[\"bp_level\"].astype(int)"
   ]
  },
  {
   "cell_type": "code",
   "execution_count": 6,
   "id": "2a1907a1",
   "metadata": {},
   "outputs": [
    {
     "data": {
      "image/png": "[encoded data removed]",
      "text/plain": [
       "<Figure size 432x288 with 2 Axes>"
      ]
     },
     "metadata": {
      "needs_background": "light"
     },
     "output_type": "display_data"
    }
   ],
   "source": [
    "# Visualize the correlations between all numerical data \n",
    "plt.figure()\n",
    "sns.heatmap(cvd.corr(), cmap='coolwarm')\n",
    "# sns.catplot(x=\"cardio\", y=\"age\", kind=\"swarm\", data=cvd)\n",
    "plt.show()"
   ]
  },
  {
   "cell_type": "code",
   "execution_count": 7,
   "id": "0868c2ef",
   "metadata": {},
   "outputs": [],
   "source": [
    "# Split the data into training and test sets\n",
    "X = cvd[['age', 'gender','gluc', 'bp_level', 'weight','cholesterol']]\n",
    "y = cvd[\"cardio\"]\n",
    "\n",
    "\n",
    "X_train, X_test, y_train, y_test = train_test_split(X,\n",
    "                                                    y,\n",
    "                                                    test_size = 0.33,\n",
    "                                                    random_state = 7,\n",
    "                                                    stratify = y\n",
    "                                                   )"
   ]
  },
  {
   "cell_type": "markdown",
   "id": "683f6371",
   "metadata": {},
   "source": [
    "### RandomForestClassifier - CVD dataset"
   ]
  },
  {
   "cell_type": "code",
   "execution_count": 8,
   "id": "e73c7d9c",
   "metadata": {},
   "outputs": [
    {
     "data": {
      "text/plain": [
       "RandomForestClassifier(criterion='entropy', random_state=7)"
      ]
     },
     "execution_count": 8,
     "metadata": {},
     "output_type": "execute_result"
    }
   ],
   "source": [
    "# Build the classifier\n",
    "rf = RandomForestClassifier(criterion='entropy', n_estimators = 100, random_state = 7)\n",
    "rf.fit(X_train, y_train)"
   ]
  },
  {
   "cell_type": "code",
   "execution_count": 9,
   "id": "66c5afcc",
   "metadata": {},
   "outputs": [
    {
     "name": "stdout",
     "output_type": "stream",
     "text": [
      "The accuracy of the model is: 0.6509358926772363\n"
     ]
    }
   ],
   "source": [
    "# Predict the labels for the test set\n",
    "y_pred   = rf.predict(X_test)\n",
    "\n",
    "# Prediction accuracy\n",
    "print('The accuracy of the model is: {}'.format(rf.score(X_test, y_test)))"
   ]
  },
  {
   "cell_type": "code",
   "execution_count": 10,
   "id": "4671d886",
   "metadata": {},
   "outputs": [
    {
     "name": "stdout",
     "output_type": "stream",
     "text": [
      "              precision    recall  f1-score   support\n",
      "\n",
      "         CVD       0.66      0.64      0.65      9503\n",
      "      no CVD       0.64      0.66      0.65      9356\n",
      "\n",
      "    accuracy                           0.65     18859\n",
      "   macro avg       0.65      0.65      0.65     18859\n",
      "weighted avg       0.65      0.65      0.65     18859\n",
      "\n"
     ]
    }
   ],
   "source": [
    "# Get the classification report for the model \n",
    "y_pred = rf.predict(X_test)\n",
    "\n",
    "target_names = [\"CVD\", \"no CVD\"]\n",
    "print(classification_report(y_test, y_pred, target_names = target_names))"
   ]
  },
  {
   "cell_type": "code",
   "execution_count": 11,
   "id": "1f7343c1",
   "metadata": {},
   "outputs": [
    {
     "data": {
      "image/png": "[encoded data removed]",
      "text/plain": [
       "<Figure size 432x288 with 1 Axes>"
      ]
     },
     "metadata": {
      "needs_background": "light"
     },
     "output_type": "display_data"
    }
   ],
   "source": [
    "# Visualize the most important features that help predict the presence of CVDs. \n",
    "feat_importances = pd.Series(rf.feature_importances_, index=X.columns)\n",
    "feat_importances.nlargest(6).plot(kind='barh')\n",
    "plt.title(\"Selected features and their importance from the model prediction\")\n",
    "plt.xlabel(\"Importance\")\n",
    "plt.ylabel(\"Selected features\")\n",
    "plt.show()"
   ]
  },
  {
   "cell_type": "markdown",
   "id": "574378ad",
   "metadata": {},
   "source": [
    ">Summary: The RandomForest Classifier model's accuracy to predict the presence of cardio was approximate 65%. Based on the classification report, the f-1 score for both CVD and no CVD was 0.65. Since the f-1 score was calculated based on precision and recall, we could say that an f-1 score with a value of 0.65 means that we have moderately low false positive and false negative predictions. Then, the most important selected feature from this model was age. "
   ]
  },
  {
   "cell_type": "markdown",
   "id": "6575934a",
   "metadata": {},
   "source": [
    "### RandomForestRegression - CVD dataset"
   ]
  },
  {
   "cell_type": "code",
   "execution_count": 12,
   "id": "f854239c",
   "metadata": {},
   "outputs": [
    {
     "data": {
      "text/plain": [
       "RandomForestRegressor(n_estimators=250, random_state=7)"
      ]
     },
     "execution_count": 12,
     "metadata": {},
     "output_type": "execute_result"
    }
   ],
   "source": [
    "# Build the regressor\n",
    "rf = RandomForestRegressor(n_estimators = 250, random_state=7)\n",
    "rf.fit(X_train, y_train)"
   ]
  },
  {
   "cell_type": "code",
   "execution_count": 13,
   "id": "ccadb6c6",
   "metadata": {},
   "outputs": [
    {
     "name": "stdout",
     "output_type": "stream",
     "text": [
      "The probability of having cardio is: [0.64  0.964 0.128 ... 0.264 0.928 0.272]\n"
     ]
    }
   ],
   "source": [
    "# Predict the labels for the test set\n",
    "y_pred   = rf.predict(X_test)\n",
    "\n",
    "print('The probability of having cardio is: {}'.format(y_pred))"
   ]
  },
  {
   "cell_type": "code",
   "execution_count": 14,
   "id": "7cc12c7e",
   "metadata": {},
   "outputs": [
    {
     "name": "stdout",
     "output_type": "stream",
     "text": [
      "The mse of the model is: 0.2263116454408381\n"
     ]
    }
   ],
   "source": [
    "# Evaluate the Predictions\n",
    "mse = mean_squared_error(y_test, y_pred)\n",
    "\n",
    "print('The mse of the model is: {}'.format(mse))"
   ]
  },
  {
   "cell_type": "code",
   "execution_count": 15,
   "id": "9f8ce910",
   "metadata": {},
   "outputs": [
    {
     "name": "stderr",
     "output_type": "stream",
     "text": [
      "<ipython-input-15-47bd10482d9b>:3: SettingWithCopyWarning: \n",
      "A value is trying to be set on a copy of a slice from a DataFrame.\n",
      "Try using .loc[row_indexer,col_indexer] = value instead\n",
      "\n",
      "See the caveats in the documentation: https://pandas.pydata.org/pandas-docs/stable/user_guide/indexing.html#returning-a-view-versus-a-copy\n",
      "  X_test[\"P(cardio)\"] = pred_y\n"
     ]
    }
   ],
   "source": [
    "# Add corresponding CVD predictions to the X_test dataframe \n",
    "pred_y = list(y_pred)\n",
    "X_test[\"P(cardio)\"] = pred_y"
   ]
  },
  {
   "cell_type": "code",
   "execution_count": 16,
   "id": "eac4e085",
   "metadata": {},
   "outputs": [
    {
     "data": {
      "text/html": [
       "<div>\n",
       "<style scoped>\n",
       "    .dataframe tbody tr th:only-of-type {\n",
       "        vertical-align: middle;\n",
       "    }\n",
       "\n",
       "    .dataframe tbody tr th {\n",
       "        vertical-align: top;\n",
       "    }\n",
       "\n",
       "    .dataframe thead th {\n",
       "        text-align: right;\n",
       "    }\n",
       "</style>\n",
       "<table border=\"1\" class=\"dataframe\">\n",
       "  <thead>\n",
       "    <tr style=\"text-align: right;\">\n",
       "      <th></th>\n",
       "      <th>age</th>\n",
       "      <th>gender</th>\n",
       "      <th>gluc</th>\n",
       "      <th>bp_level</th>\n",
       "      <th>weight</th>\n",
       "      <th>cholesterol</th>\n",
       "      <th>P(cardio)</th>\n",
       "    </tr>\n",
       "  </thead>\n",
       "  <tbody>\n",
       "    <tr>\n",
       "      <th>50136</th>\n",
       "      <td>59.972603</td>\n",
       "      <td>1</td>\n",
       "      <td>1</td>\n",
       "      <td>1</td>\n",
       "      <td>58.0</td>\n",
       "      <td>3</td>\n",
       "      <td>0.640</td>\n",
       "    </tr>\n",
       "    <tr>\n",
       "      <th>45623</th>\n",
       "      <td>57.572603</td>\n",
       "      <td>1</td>\n",
       "      <td>1</td>\n",
       "      <td>4</td>\n",
       "      <td>63.0</td>\n",
       "      <td>3</td>\n",
       "      <td>0.964</td>\n",
       "    </tr>\n",
       "    <tr>\n",
       "      <th>27818</th>\n",
       "      <td>51.471233</td>\n",
       "      <td>1</td>\n",
       "      <td>1</td>\n",
       "      <td>1</td>\n",
       "      <td>60.0</td>\n",
       "      <td>1</td>\n",
       "      <td>0.128</td>\n",
       "    </tr>\n",
       "    <tr>\n",
       "      <th>55490</th>\n",
       "      <td>61.852055</td>\n",
       "      <td>2</td>\n",
       "      <td>1</td>\n",
       "      <td>3</td>\n",
       "      <td>95.0</td>\n",
       "      <td>1</td>\n",
       "      <td>0.512</td>\n",
       "    </tr>\n",
       "    <tr>\n",
       "      <th>7860</th>\n",
       "      <td>54.405479</td>\n",
       "      <td>2</td>\n",
       "      <td>1</td>\n",
       "      <td>3</td>\n",
       "      <td>72.0</td>\n",
       "      <td>1</td>\n",
       "      <td>0.480</td>\n",
       "    </tr>\n",
       "    <tr>\n",
       "      <th>...</th>\n",
       "      <td>...</td>\n",
       "      <td>...</td>\n",
       "      <td>...</td>\n",
       "      <td>...</td>\n",
       "      <td>...</td>\n",
       "      <td>...</td>\n",
       "      <td>...</td>\n",
       "    </tr>\n",
       "    <tr>\n",
       "      <th>24064</th>\n",
       "      <td>56.493151</td>\n",
       "      <td>1</td>\n",
       "      <td>1</td>\n",
       "      <td>1</td>\n",
       "      <td>77.0</td>\n",
       "      <td>1</td>\n",
       "      <td>0.480</td>\n",
       "    </tr>\n",
       "    <tr>\n",
       "      <th>34764</th>\n",
       "      <td>56.271233</td>\n",
       "      <td>1</td>\n",
       "      <td>1</td>\n",
       "      <td>4</td>\n",
       "      <td>78.0</td>\n",
       "      <td>1</td>\n",
       "      <td>0.696</td>\n",
       "    </tr>\n",
       "    <tr>\n",
       "      <th>26558</th>\n",
       "      <td>42.136986</td>\n",
       "      <td>2</td>\n",
       "      <td>1</td>\n",
       "      <td>1</td>\n",
       "      <td>69.0</td>\n",
       "      <td>1</td>\n",
       "      <td>0.264</td>\n",
       "    </tr>\n",
       "    <tr>\n",
       "      <th>44652</th>\n",
       "      <td>40.205479</td>\n",
       "      <td>1</td>\n",
       "      <td>2</td>\n",
       "      <td>4</td>\n",
       "      <td>90.0</td>\n",
       "      <td>1</td>\n",
       "      <td>0.928</td>\n",
       "    </tr>\n",
       "    <tr>\n",
       "      <th>55793</th>\n",
       "      <td>49.947945</td>\n",
       "      <td>2</td>\n",
       "      <td>1</td>\n",
       "      <td>1</td>\n",
       "      <td>70.0</td>\n",
       "      <td>1</td>\n",
       "      <td>0.272</td>\n",
       "    </tr>\n",
       "  </tbody>\n",
       "</table>\n",
       "<p>18859 rows × 7 columns</p>\n",
       "</div>"
      ],
      "text/plain": [
       "             age  gender  gluc  bp_level  weight  cholesterol  P(cardio)\n",
       "50136  59.972603       1     1         1    58.0            3      0.640\n",
       "45623  57.572603       1     1         4    63.0            3      0.964\n",
       "27818  51.471233       1     1         1    60.0            1      0.128\n",
       "55490  61.852055       2     1         3    95.0            1      0.512\n",
       "7860   54.405479       2     1         3    72.0            1      0.480\n",
       "...          ...     ...   ...       ...     ...          ...        ...\n",
       "24064  56.493151       1     1         1    77.0            1      0.480\n",
       "34764  56.271233       1     1         4    78.0            1      0.696\n",
       "26558  42.136986       2     1         1    69.0            1      0.264\n",
       "44652  40.205479       1     2         4    90.0            1      0.928\n",
       "55793  49.947945       2     1         1    70.0            1      0.272\n",
       "\n",
       "[18859 rows x 7 columns]"
      ]
     },
     "execution_count": 16,
     "metadata": {},
     "output_type": "execute_result"
    }
   ],
   "source": [
    "# Check the size of the test set\n",
    "X_test"
   ]
  },
  {
   "cell_type": "code",
   "execution_count": 17,
   "id": "8287d589",
   "metadata": {},
   "outputs": [
    {
     "name": "stdout",
     "output_type": "stream",
     "text": [
      "Based on all input variables for the model, the average possibility of having CVDs is 0.4967508391620766.\n"
     ]
    }
   ],
   "source": [
    "# Find the average prediction of having CVDs \n",
    "print (f\"Based on all input variables for the model, the average possibility of having CVDs is {sum(pred_y)/len(pred_y)}.\")"
   ]
  },
  {
   "cell_type": "code",
   "execution_count": 18,
   "id": "687505ff",
   "metadata": {},
   "outputs": [
    {
     "data": {
      "text/html": [
       "<div>\n",
       "<style scoped>\n",
       "    .dataframe tbody tr th:only-of-type {\n",
       "        vertical-align: middle;\n",
       "    }\n",
       "\n",
       "    .dataframe tbody tr th {\n",
       "        vertical-align: top;\n",
       "    }\n",
       "\n",
       "    .dataframe thead th {\n",
       "        text-align: right;\n",
       "    }\n",
       "</style>\n",
       "<table border=\"1\" class=\"dataframe\">\n",
       "  <thead>\n",
       "    <tr style=\"text-align: right;\">\n",
       "      <th></th>\n",
       "      <th>id</th>\n",
       "      <th>age</th>\n",
       "      <th>gender</th>\n",
       "      <th>height</th>\n",
       "      <th>weight</th>\n",
       "      <th>ap_hi</th>\n",
       "      <th>ap_lo</th>\n",
       "      <th>cholesterol</th>\n",
       "      <th>gluc</th>\n",
       "      <th>smoke</th>\n",
       "      <th>alco</th>\n",
       "      <th>active</th>\n",
       "      <th>cardio</th>\n",
       "      <th>bp_cate</th>\n",
       "      <th>bp_level</th>\n",
       "      <th>P(cardio)</th>\n",
       "    </tr>\n",
       "  </thead>\n",
       "  <tbody>\n",
       "    <tr>\n",
       "      <th>0</th>\n",
       "      <td>1</td>\n",
       "      <td>55.419178</td>\n",
       "      <td>1</td>\n",
       "      <td>156</td>\n",
       "      <td>85.0</td>\n",
       "      <td>140</td>\n",
       "      <td>90</td>\n",
       "      <td>3</td>\n",
       "      <td>1</td>\n",
       "      <td>0</td>\n",
       "      <td>0</td>\n",
       "      <td>1</td>\n",
       "      <td>1</td>\n",
       "      <td>Hypertension stage 2</td>\n",
       "      <td>4</td>\n",
       "      <td>0.752000</td>\n",
       "    </tr>\n",
       "    <tr>\n",
       "      <th>10</th>\n",
       "      <td>16</td>\n",
       "      <td>51.547945</td>\n",
       "      <td>2</td>\n",
       "      <td>173</td>\n",
       "      <td>60.0</td>\n",
       "      <td>120</td>\n",
       "      <td>80</td>\n",
       "      <td>1</td>\n",
       "      <td>1</td>\n",
       "      <td>0</td>\n",
       "      <td>0</td>\n",
       "      <td>1</td>\n",
       "      <td>0</td>\n",
       "      <td>Normal</td>\n",
       "      <td>1</td>\n",
       "      <td>0.380733</td>\n",
       "    </tr>\n",
       "    <tr>\n",
       "      <th>11</th>\n",
       "      <td>18</td>\n",
       "      <td>40.523288</td>\n",
       "      <td>2</td>\n",
       "      <td>165</td>\n",
       "      <td>60.0</td>\n",
       "      <td>120</td>\n",
       "      <td>80</td>\n",
       "      <td>1</td>\n",
       "      <td>1</td>\n",
       "      <td>0</td>\n",
       "      <td>0</td>\n",
       "      <td>0</td>\n",
       "      <td>0</td>\n",
       "      <td>Normal</td>\n",
       "      <td>1</td>\n",
       "      <td>0.052000</td>\n",
       "    </tr>\n",
       "    <tr>\n",
       "      <th>15</th>\n",
       "      <td>25</td>\n",
       "      <td>58.345205</td>\n",
       "      <td>1</td>\n",
       "      <td>170</td>\n",
       "      <td>75.0</td>\n",
       "      <td>130</td>\n",
       "      <td>70</td>\n",
       "      <td>1</td>\n",
       "      <td>1</td>\n",
       "      <td>0</td>\n",
       "      <td>0</td>\n",
       "      <td>0</td>\n",
       "      <td>0</td>\n",
       "      <td>Hypertension stage 1</td>\n",
       "      <td>3</td>\n",
       "      <td>0.336000</td>\n",
       "    </tr>\n",
       "    <tr>\n",
       "      <th>19</th>\n",
       "      <td>31</td>\n",
       "      <td>58.665753</td>\n",
       "      <td>1</td>\n",
       "      <td>157</td>\n",
       "      <td>69.0</td>\n",
       "      <td>130</td>\n",
       "      <td>80</td>\n",
       "      <td>1</td>\n",
       "      <td>1</td>\n",
       "      <td>0</td>\n",
       "      <td>0</td>\n",
       "      <td>1</td>\n",
       "      <td>0</td>\n",
       "      <td>Hypertension stage 1</td>\n",
       "      <td>3</td>\n",
       "      <td>0.292000</td>\n",
       "    </tr>\n",
       "    <tr>\n",
       "      <th>...</th>\n",
       "      <td>...</td>\n",
       "      <td>...</td>\n",
       "      <td>...</td>\n",
       "      <td>...</td>\n",
       "      <td>...</td>\n",
       "      <td>...</td>\n",
       "      <td>...</td>\n",
       "      <td>...</td>\n",
       "      <td>...</td>\n",
       "      <td>...</td>\n",
       "      <td>...</td>\n",
       "      <td>...</td>\n",
       "      <td>...</td>\n",
       "      <td>...</td>\n",
       "      <td>...</td>\n",
       "      <td>...</td>\n",
       "    </tr>\n",
       "    <tr>\n",
       "      <th>57131</th>\n",
       "      <td>99973</td>\n",
       "      <td>51.893151</td>\n",
       "      <td>1</td>\n",
       "      <td>153</td>\n",
       "      <td>86.0</td>\n",
       "      <td>130</td>\n",
       "      <td>90</td>\n",
       "      <td>1</td>\n",
       "      <td>2</td>\n",
       "      <td>0</td>\n",
       "      <td>0</td>\n",
       "      <td>1</td>\n",
       "      <td>1</td>\n",
       "      <td>Hypertension stage 1</td>\n",
       "      <td>3</td>\n",
       "      <td>0.288000</td>\n",
       "    </tr>\n",
       "    <tr>\n",
       "      <th>57132</th>\n",
       "      <td>99974</td>\n",
       "      <td>53.841096</td>\n",
       "      <td>1</td>\n",
       "      <td>165</td>\n",
       "      <td>72.0</td>\n",
       "      <td>120</td>\n",
       "      <td>80</td>\n",
       "      <td>1</td>\n",
       "      <td>1</td>\n",
       "      <td>0</td>\n",
       "      <td>0</td>\n",
       "      <td>1</td>\n",
       "      <td>0</td>\n",
       "      <td>Normal</td>\n",
       "      <td>1</td>\n",
       "      <td>0.044000</td>\n",
       "    </tr>\n",
       "    <tr>\n",
       "      <th>57137</th>\n",
       "      <td>99981</td>\n",
       "      <td>60.213699</td>\n",
       "      <td>1</td>\n",
       "      <td>160</td>\n",
       "      <td>59.0</td>\n",
       "      <td>110</td>\n",
       "      <td>70</td>\n",
       "      <td>1</td>\n",
       "      <td>1</td>\n",
       "      <td>0</td>\n",
       "      <td>0</td>\n",
       "      <td>1</td>\n",
       "      <td>0</td>\n",
       "      <td>Normal</td>\n",
       "      <td>1</td>\n",
       "      <td>0.382667</td>\n",
       "    </tr>\n",
       "    <tr>\n",
       "      <th>57142</th>\n",
       "      <td>99993</td>\n",
       "      <td>52.712329</td>\n",
       "      <td>2</td>\n",
       "      <td>168</td>\n",
       "      <td>76.0</td>\n",
       "      <td>120</td>\n",
       "      <td>80</td>\n",
       "      <td>1</td>\n",
       "      <td>1</td>\n",
       "      <td>1</td>\n",
       "      <td>0</td>\n",
       "      <td>1</td>\n",
       "      <td>0</td>\n",
       "      <td>Normal</td>\n",
       "      <td>1</td>\n",
       "      <td>0.048000</td>\n",
       "    </tr>\n",
       "    <tr>\n",
       "      <th>57145</th>\n",
       "      <td>99999</td>\n",
       "      <td>56.273973</td>\n",
       "      <td>1</td>\n",
       "      <td>170</td>\n",
       "      <td>72.0</td>\n",
       "      <td>120</td>\n",
       "      <td>80</td>\n",
       "      <td>2</td>\n",
       "      <td>1</td>\n",
       "      <td>0</td>\n",
       "      <td>0</td>\n",
       "      <td>1</td>\n",
       "      <td>0</td>\n",
       "      <td>Normal</td>\n",
       "      <td>1</td>\n",
       "      <td>0.292000</td>\n",
       "    </tr>\n",
       "  </tbody>\n",
       "</table>\n",
       "<p>18859 rows × 16 columns</p>\n",
       "</div>"
      ],
      "text/plain": [
       "          id        age  gender  height  weight  ap_hi  ap_lo  cholesterol  \\\n",
       "0          1  55.419178       1     156    85.0    140     90            3   \n",
       "10        16  51.547945       2     173    60.0    120     80            1   \n",
       "11        18  40.523288       2     165    60.0    120     80            1   \n",
       "15        25  58.345205       1     170    75.0    130     70            1   \n",
       "19        31  58.665753       1     157    69.0    130     80            1   \n",
       "...      ...        ...     ...     ...     ...    ...    ...          ...   \n",
       "57131  99973  51.893151       1     153    86.0    130     90            1   \n",
       "57132  99974  53.841096       1     165    72.0    120     80            1   \n",
       "57137  99981  60.213699       1     160    59.0    110     70            1   \n",
       "57142  99993  52.712329       2     168    76.0    120     80            1   \n",
       "57145  99999  56.273973       1     170    72.0    120     80            2   \n",
       "\n",
       "       gluc  smoke  alco  active  cardio               bp_cate bp_level  \\\n",
       "0         1      0     0       1       1  Hypertension stage 2        4   \n",
       "10        1      0     0       1       0                Normal        1   \n",
       "11        1      0     0       0       0                Normal        1   \n",
       "15        1      0     0       0       0  Hypertension stage 1        3   \n",
       "19        1      0     0       1       0  Hypertension stage 1        3   \n",
       "...     ...    ...   ...     ...     ...                   ...      ...   \n",
       "57131     2      0     0       1       1  Hypertension stage 1        3   \n",
       "57132     1      0     0       1       0                Normal        1   \n",
       "57137     1      0     0       1       0                Normal        1   \n",
       "57142     1      1     0       1       0                Normal        1   \n",
       "57145     1      0     0       1       0                Normal        1   \n",
       "\n",
       "       P(cardio)  \n",
       "0       0.752000  \n",
       "10      0.380733  \n",
       "11      0.052000  \n",
       "15      0.336000  \n",
       "19      0.292000  \n",
       "...          ...  \n",
       "57131   0.288000  \n",
       "57132   0.044000  \n",
       "57137   0.382667  \n",
       "57142   0.048000  \n",
       "57145   0.292000  \n",
       "\n",
       "[18859 rows x 16 columns]"
      ]
     },
     "execution_count": 18,
     "metadata": {},
     "output_type": "execute_result"
    }
   ],
   "source": [
    "# Merge the original cvd dataset and the X_test so we can locate the patient id and corresponding CVD possibility \n",
    "merged = pd.merge(left=cvd_df, left_index=True,\n",
    "                  right=X_test, right_index=True,\n",
    "                  how='inner', suffixes=('', '_remove'))\n",
    "# Remove the duplicate columns\n",
    "merged.drop([i for i in merged.columns if 'remove' in i],\n",
    "               axis=1, inplace=True)\n",
    "\n",
    "# Remove the \"Unnamed:0\" column\n",
    "merged.iloc[: , 1:]"
   ]
  },
  {
   "cell_type": "markdown",
   "id": "2b136c7d",
   "metadata": {},
   "source": [
    "> Summary: The RandomForestRegression model could help predict the possibility of having CVDs. The mean squared error of this model, 0.226, was relatively low because it means that the model regression line was close to the data points of the test, but it was not close enough. Also, we merged the cvd_df and the X_test set to observe each case with a CVD predictive possibility."
   ]
  },
  {
   "cell_type": "markdown",
   "id": "b4c6d2b1",
   "metadata": {},
   "source": [
    "### K-fold Cross Validation - CVD dataset "
   ]
  },
  {
   "cell_type": "code",
   "execution_count": 19,
   "id": "b9c8081d",
   "metadata": {},
   "outputs": [
    {
     "name": "stdout",
     "output_type": "stream",
     "text": [
      " The K-fold Cross-Validation model has a 0.65 accuracy with a standard deviation of 0.01\n"
     ]
    }
   ],
   "source": [
    "# Initiate K-fold CV \n",
    "cv = KFold(n_splits=10, random_state=1, shuffle=True)\n",
    "\n",
    "# Evaluate model\n",
    "scores = cross_val_score(RandomForestClassifier(), X, y, scoring='accuracy', cv=cv, n_jobs=-1)\n",
    "print(\" The K-fold Cross-Validation model has a %0.2f accuracy with a standard deviation of %0.2f\" % (scores.mean(), scores.std()))"
   ]
  },
  {
   "cell_type": "markdown",
   "id": "8d2e2a33",
   "metadata": {},
   "source": [
    "### Stroke Dataset"
   ]
  },
  {
   "cell_type": "code",
   "execution_count": 20,
   "id": "ef4c09bb",
   "metadata": {},
   "outputs": [
    {
     "data": {
      "text/html": [
       "<div>\n",
       "<style scoped>\n",
       "    .dataframe tbody tr th:only-of-type {\n",
       "        vertical-align: middle;\n",
       "    }\n",
       "\n",
       "    .dataframe tbody tr th {\n",
       "        vertical-align: top;\n",
       "    }\n",
       "\n",
       "    .dataframe thead th {\n",
       "        text-align: right;\n",
       "    }\n",
       "</style>\n",
       "<table border=\"1\" class=\"dataframe\">\n",
       "  <thead>\n",
       "    <tr style=\"text-align: right;\">\n",
       "      <th></th>\n",
       "      <th>Unnamed: 0</th>\n",
       "      <th>id</th>\n",
       "      <th>gender</th>\n",
       "      <th>age</th>\n",
       "      <th>hypertension</th>\n",
       "      <th>heart_disease</th>\n",
       "      <th>ever_married</th>\n",
       "      <th>work_type</th>\n",
       "      <th>Residence_type</th>\n",
       "      <th>avg_glucose_level</th>\n",
       "      <th>bmi</th>\n",
       "      <th>smoking_status</th>\n",
       "      <th>stroke</th>\n",
       "    </tr>\n",
       "  </thead>\n",
       "  <tbody>\n",
       "    <tr>\n",
       "      <th>0</th>\n",
       "      <td>0</td>\n",
       "      <td>9046</td>\n",
       "      <td>Male</td>\n",
       "      <td>67.0</td>\n",
       "      <td>0</td>\n",
       "      <td>1</td>\n",
       "      <td>Yes</td>\n",
       "      <td>Private</td>\n",
       "      <td>Urban</td>\n",
       "      <td>228.69</td>\n",
       "      <td>36.6</td>\n",
       "      <td>formerly smoked</td>\n",
       "      <td>1</td>\n",
       "    </tr>\n",
       "    <tr>\n",
       "      <th>1</th>\n",
       "      <td>2</td>\n",
       "      <td>31112</td>\n",
       "      <td>Male</td>\n",
       "      <td>80.0</td>\n",
       "      <td>0</td>\n",
       "      <td>1</td>\n",
       "      <td>Yes</td>\n",
       "      <td>Private</td>\n",
       "      <td>Rural</td>\n",
       "      <td>105.92</td>\n",
       "      <td>32.5</td>\n",
       "      <td>never smoked</td>\n",
       "      <td>1</td>\n",
       "    </tr>\n",
       "    <tr>\n",
       "      <th>2</th>\n",
       "      <td>3</td>\n",
       "      <td>60182</td>\n",
       "      <td>Female</td>\n",
       "      <td>49.0</td>\n",
       "      <td>0</td>\n",
       "      <td>0</td>\n",
       "      <td>Yes</td>\n",
       "      <td>Private</td>\n",
       "      <td>Urban</td>\n",
       "      <td>171.23</td>\n",
       "      <td>34.4</td>\n",
       "      <td>smokes</td>\n",
       "      <td>1</td>\n",
       "    </tr>\n",
       "    <tr>\n",
       "      <th>3</th>\n",
       "      <td>4</td>\n",
       "      <td>1665</td>\n",
       "      <td>Female</td>\n",
       "      <td>79.0</td>\n",
       "      <td>1</td>\n",
       "      <td>0</td>\n",
       "      <td>Yes</td>\n",
       "      <td>Self-employed</td>\n",
       "      <td>Rural</td>\n",
       "      <td>174.12</td>\n",
       "      <td>24.0</td>\n",
       "      <td>never smoked</td>\n",
       "      <td>1</td>\n",
       "    </tr>\n",
       "    <tr>\n",
       "      <th>4</th>\n",
       "      <td>5</td>\n",
       "      <td>56669</td>\n",
       "      <td>Male</td>\n",
       "      <td>81.0</td>\n",
       "      <td>0</td>\n",
       "      <td>0</td>\n",
       "      <td>Yes</td>\n",
       "      <td>Private</td>\n",
       "      <td>Urban</td>\n",
       "      <td>186.21</td>\n",
       "      <td>29.0</td>\n",
       "      <td>formerly smoked</td>\n",
       "      <td>1</td>\n",
       "    </tr>\n",
       "    <tr>\n",
       "      <th>5</th>\n",
       "      <td>6</td>\n",
       "      <td>53882</td>\n",
       "      <td>Male</td>\n",
       "      <td>74.0</td>\n",
       "      <td>1</td>\n",
       "      <td>1</td>\n",
       "      <td>Yes</td>\n",
       "      <td>Private</td>\n",
       "      <td>Rural</td>\n",
       "      <td>70.09</td>\n",
       "      <td>27.4</td>\n",
       "      <td>never smoked</td>\n",
       "      <td>1</td>\n",
       "    </tr>\n",
       "    <tr>\n",
       "      <th>6</th>\n",
       "      <td>7</td>\n",
       "      <td>10434</td>\n",
       "      <td>Female</td>\n",
       "      <td>69.0</td>\n",
       "      <td>0</td>\n",
       "      <td>0</td>\n",
       "      <td>No</td>\n",
       "      <td>Private</td>\n",
       "      <td>Urban</td>\n",
       "      <td>94.39</td>\n",
       "      <td>22.8</td>\n",
       "      <td>never smoked</td>\n",
       "      <td>1</td>\n",
       "    </tr>\n",
       "    <tr>\n",
       "      <th>7</th>\n",
       "      <td>9</td>\n",
       "      <td>60491</td>\n",
       "      <td>Female</td>\n",
       "      <td>78.0</td>\n",
       "      <td>0</td>\n",
       "      <td>0</td>\n",
       "      <td>Yes</td>\n",
       "      <td>Private</td>\n",
       "      <td>Urban</td>\n",
       "      <td>58.57</td>\n",
       "      <td>24.2</td>\n",
       "      <td>Unknown</td>\n",
       "      <td>1</td>\n",
       "    </tr>\n",
       "    <tr>\n",
       "      <th>8</th>\n",
       "      <td>10</td>\n",
       "      <td>12109</td>\n",
       "      <td>Female</td>\n",
       "      <td>81.0</td>\n",
       "      <td>1</td>\n",
       "      <td>0</td>\n",
       "      <td>Yes</td>\n",
       "      <td>Private</td>\n",
       "      <td>Rural</td>\n",
       "      <td>80.43</td>\n",
       "      <td>29.7</td>\n",
       "      <td>never smoked</td>\n",
       "      <td>1</td>\n",
       "    </tr>\n",
       "    <tr>\n",
       "      <th>9</th>\n",
       "      <td>11</td>\n",
       "      <td>12095</td>\n",
       "      <td>Female</td>\n",
       "      <td>61.0</td>\n",
       "      <td>0</td>\n",
       "      <td>1</td>\n",
       "      <td>Yes</td>\n",
       "      <td>Govt_job</td>\n",
       "      <td>Rural</td>\n",
       "      <td>120.46</td>\n",
       "      <td>36.8</td>\n",
       "      <td>smokes</td>\n",
       "      <td>1</td>\n",
       "    </tr>\n",
       "  </tbody>\n",
       "</table>\n",
       "</div>"
      ],
      "text/plain": [
       "   Unnamed: 0     id  gender   age  hypertension  heart_disease ever_married  \\\n",
       "0           0   9046    Male  67.0             0              1          Yes   \n",
       "1           2  31112    Male  80.0             0              1          Yes   \n",
       "2           3  60182  Female  49.0             0              0          Yes   \n",
       "3           4   1665  Female  79.0             1              0          Yes   \n",
       "4           5  56669    Male  81.0             0              0          Yes   \n",
       "5           6  53882    Male  74.0             1              1          Yes   \n",
       "6           7  10434  Female  69.0             0              0           No   \n",
       "7           9  60491  Female  78.0             0              0          Yes   \n",
       "8          10  12109  Female  81.0             1              0          Yes   \n",
       "9          11  12095  Female  61.0             0              1          Yes   \n",
       "\n",
       "       work_type Residence_type  avg_glucose_level   bmi   smoking_status  \\\n",
       "0        Private          Urban             228.69  36.6  formerly smoked   \n",
       "1        Private          Rural             105.92  32.5     never smoked   \n",
       "2        Private          Urban             171.23  34.4           smokes   \n",
       "3  Self-employed          Rural             174.12  24.0     never smoked   \n",
       "4        Private          Urban             186.21  29.0  formerly smoked   \n",
       "5        Private          Rural              70.09  27.4     never smoked   \n",
       "6        Private          Urban              94.39  22.8     never smoked   \n",
       "7        Private          Urban              58.57  24.2          Unknown   \n",
       "8        Private          Rural              80.43  29.7     never smoked   \n",
       "9       Govt_job          Rural             120.46  36.8           smokes   \n",
       "\n",
       "   stroke  \n",
       "0       1  \n",
       "1       1  \n",
       "2       1  \n",
       "3       1  \n",
       "4       1  \n",
       "5       1  \n",
       "6       1  \n",
       "7       1  \n",
       "8       1  \n",
       "9       1  "
      ]
     },
     "execution_count": 20,
     "metadata": {},
     "output_type": "execute_result"
    }
   ],
   "source": [
    "# Import EDA stroke data\n",
    "stroke_df = pd.read_csv('new_stroke_data.csv')\n",
    "stroke_df.head(10)"
   ]
  },
  {
   "cell_type": "code",
   "execution_count": 21,
   "id": "41d9ea46",
   "metadata": {},
   "outputs": [],
   "source": [
    "# Drop the \"Unnamed\" column\n",
    "stroke = stroke_df.iloc[: , 1:]"
   ]
  },
  {
   "cell_type": "code",
   "execution_count": 22,
   "id": "04401f7c",
   "metadata": {},
   "outputs": [
    {
     "data": {
      "image/png": "[encoded data removed]",
      "text/plain": [
       "<Figure size 432x288 with 2 Axes>"
      ]
     },
     "metadata": {
      "needs_background": "light"
     },
     "output_type": "display_data"
    }
   ],
   "source": [
    "# Visualize the correlations between all numerical data \n",
    "plt.figure()\n",
    "sns.heatmap(stroke.corr(), cmap='coolwarm')\n",
    "plt.show()"
   ]
  },
  {
   "cell_type": "markdown",
   "id": "617cbc04",
   "metadata": {},
   "source": [
    "The following three blocks of code are identical to the code in the stroke-EDA. Since we performed random undersampling to even out the stroke vs. non-stroke populations in EDA, it is better to randomly shuffle and undersample the original stroke datasets rather than using the small undersampled dataset generated from the EDA file. The purpose of undersampling the stroke dataset in EDA is to visualize the relationship between risk factors and the presence of stroke with more convenience. Here, we would repeat the same undersampling procedure on the original data to generate more accurate predictions of stroke. "
   ]
  },
  {
   "cell_type": "code",
   "execution_count": 23,
   "id": "3b520460",
   "metadata": {},
   "outputs": [
    {
     "data": {
      "image/png": "[encoded data removed]",
      "text/plain": [
       "<Figure size 432x288 with 1 Axes>"
      ]
     },
     "metadata": {
      "needs_background": "light"
     },
     "output_type": "display_data"
    }
   ],
   "source": [
    "# Vizualize the stroke/no-stroke distribution \n",
    "stroke_compare = stroke[\"stroke\"].groupby(stroke[\"stroke\"]).agg({\"count\"})\n",
    "stroke_compare = stroke_compare.reset_index()\n",
    "\n",
    "stroke_compare.plot.bar(x = \"stroke\", y = \"count\")\n",
    "plt.title(\"Distribution of stroke and no-stroke data\")\n",
    "plt.xticks(rotation = 0)\n",
    "plt.xlabel(\"0: No-stroke     1: Stroke\")\n",
    "plt.ylabel(\"Number of cases\")\n",
    "plt.show()"
   ]
  },
  {
   "cell_type": "code",
   "execution_count": 24,
   "id": "b9146668",
   "metadata": {},
   "outputs": [
    {
     "data": {
      "text/html": [
       "<div>\n",
       "<style scoped>\n",
       "    .dataframe tbody tr th:only-of-type {\n",
       "        vertical-align: middle;\n",
       "    }\n",
       "\n",
       "    .dataframe tbody tr th {\n",
       "        vertical-align: top;\n",
       "    }\n",
       "\n",
       "    .dataframe thead th {\n",
       "        text-align: right;\n",
       "    }\n",
       "</style>\n",
       "<table border=\"1\" class=\"dataframe\">\n",
       "  <thead>\n",
       "    <tr style=\"text-align: right;\">\n",
       "      <th></th>\n",
       "      <th>stroke</th>\n",
       "      <th>count</th>\n",
       "    </tr>\n",
       "  </thead>\n",
       "  <tbody>\n",
       "    <tr>\n",
       "      <th>0</th>\n",
       "      <td>0</td>\n",
       "      <td>4700</td>\n",
       "    </tr>\n",
       "    <tr>\n",
       "      <th>1</th>\n",
       "      <td>1</td>\n",
       "      <td>209</td>\n",
       "    </tr>\n",
       "  </tbody>\n",
       "</table>\n",
       "</div>"
      ],
      "text/plain": [
       "   stroke  count\n",
       "0       0   4700\n",
       "1       1    209"
      ]
     },
     "execution_count": 24,
     "metadata": {},
     "output_type": "execute_result"
    }
   ],
   "source": [
    "# Compare the number of cases of stroke and no-stroke\n",
    "stroke_compare"
   ]
  },
  {
   "cell_type": "code",
   "execution_count": 25,
   "id": "235d8353",
   "metadata": {},
   "outputs": [
    {
     "name": "stderr",
     "output_type": "stream",
     "text": [
      "/opt/anaconda3/lib/python3.8/site-packages/seaborn/_decorators.py:36: FutureWarning: Pass the following variable as a keyword arg: x. From version 0.12, the only valid positional argument will be `data`, and passing other arguments without an explicit keyword will result in an error or misinterpretation.\n",
      "  warnings.warn(\n"
     ]
    },
    {
     "data": {
      "image/png": "[encoded data removed]",
      "text/plain": [
       "<Figure size 576x576 with 1 Axes>"
      ]
     },
     "metadata": {
      "needs_background": "light"
     },
     "output_type": "display_data"
    }
   ],
   "source": [
    "# Perform undersampling on the dataset to make 50% stroke vs. 50% no-stroke cases\n",
    "\n",
    "# Shuffle the Dataset.\n",
    "shuffled_stroke = stroke.sample(frac=1,random_state=4)\n",
    "\n",
    "# Put all the  class in a separate dataset.\n",
    "has_stroke = shuffled_stroke.loc[shuffled_stroke['stroke'] == 1]\n",
    "\n",
    "# Randomly select 209 observations from the no-stroke class (majority class)\n",
    "no_stroke = shuffled_stroke.loc[shuffled_stroke['stroke'] == 0].sample(n=209,random_state=42)\n",
    "\n",
    "# Concatenate both dataframes again\n",
    "normalized_stroke = pd.concat([has_stroke, no_stroke])\n",
    "\n",
    "# Plot the dataset after the undersampling\n",
    "plt.figure(figsize=(8, 8))\n",
    "sns.countplot('stroke', data = normalized_stroke)\n",
    "plt.title('Balanced stroke classes')\n",
    "plt.xlabel(\"0: No-stroke  1: Stroke\")\n",
    "plt.show()"
   ]
  },
  {
   "cell_type": "code",
   "execution_count": 26,
   "id": "f6f9ee47",
   "metadata": {},
   "outputs": [],
   "source": [
    "# Split the data into training and test sets\n",
    "X = normalized_stroke[['age', 'hypertension','heart_disease', 'avg_glucose_level']]\n",
    "y = normalized_stroke[\"stroke\"]\n",
    "\n",
    "\n",
    "X_train, X_test, y_train, y_test = train_test_split(X,\n",
    "                                                    y,\n",
    "                                                    test_size = 0.33,\n",
    "                                                    random_state = 7,\n",
    "                                                    stratify = y\n",
    "                                                   )"
   ]
  },
  {
   "cell_type": "markdown",
   "id": "9f01be13",
   "metadata": {},
   "source": [
    "### RandomForestClassifier - stroke dataset"
   ]
  },
  {
   "cell_type": "code",
   "execution_count": 27,
   "id": "676afd20",
   "metadata": {},
   "outputs": [
    {
     "data": {
      "text/plain": [
       "RandomForestClassifier(criterion='entropy', random_state=7)"
      ]
     },
     "execution_count": 27,
     "metadata": {},
     "output_type": "execute_result"
    }
   ],
   "source": [
    "# Build the classifier\n",
    "rf = RandomForestClassifier(criterion='entropy', n_estimators = 100, random_state = 7)\n",
    "rf.fit(X_train, y_train)"
   ]
  },
  {
   "cell_type": "code",
   "execution_count": 28,
   "id": "65dcd1d1",
   "metadata": {},
   "outputs": [
    {
     "name": "stdout",
     "output_type": "stream",
     "text": [
      "The accuracy of the model is: 0.717391304347826\n"
     ]
    }
   ],
   "source": [
    "# Predict the labels for the test set\n",
    "y_pred   = rf.predict(X_test)\n",
    "\n",
    "# Prediction accuracy\n",
    "print('The accuracy of the model is: {}'.format(rf.score(X_test, y_test)))"
   ]
  },
  {
   "cell_type": "code",
   "execution_count": 29,
   "id": "ec1366b9",
   "metadata": {},
   "outputs": [
    {
     "name": "stdout",
     "output_type": "stream",
     "text": [
      "              precision    recall  f1-score   support\n",
      "\n",
      "  Non Stroke       0.70      0.75      0.73        69\n",
      "      Stroke       0.73      0.68      0.71        69\n",
      "\n",
      "    accuracy                           0.72       138\n",
      "   macro avg       0.72      0.72      0.72       138\n",
      "weighted avg       0.72      0.72      0.72       138\n",
      "\n"
     ]
    }
   ],
   "source": [
    "# Get the classification report for the model \n",
    "y_pred = rf.predict(X_test)\n",
    "\n",
    "target_names = ['Non Stroke','Stroke']\n",
    "print(classification_report(y_test, y_pred, target_names = target_names))"
   ]
  },
  {
   "cell_type": "code",
   "execution_count": 30,
   "id": "9b3cbf74",
   "metadata": {},
   "outputs": [
    {
     "data": {
      "image/png": "[encoded data removed]",
      "text/plain": [
       "<Figure size 432x288 with 1 Axes>"
      ]
     },
     "metadata": {
      "needs_background": "light"
     },
     "output_type": "display_data"
    }
   ],
   "source": [
    "# Visualize the most important features that help predict the presence of stroke. \n",
    "feat_importances = pd.Series(rf.feature_importances_, index=X.columns)\n",
    "feat_importances.nlargest(4).plot(kind='barh')\n",
    "plt.title(\"Selected features and their importance from the model prediction\")\n",
    "plt.xlabel(\"Importance\")\n",
    "plt.ylabel(\"Selected features\")\n",
    "plt.show()"
   ]
  },
  {
   "cell_type": "markdown",
   "id": "b2160ed5",
   "metadata": {},
   "source": [
    ">Summary: The RandomForest Classifier model's accuracy to predict the presence of strokes was approximate 72%. Based on the classification report, the f-1 score for both CVD and no CVD was around 0.72. Since the f-1 score was calculated based on precision and recall, we could say that an f-1 score of around 0.72 means that we have low false positive and false negative predictions. The most important selected features from this model were age and average glucose level. "
   ]
  },
  {
   "cell_type": "markdown",
   "id": "07abc0d4",
   "metadata": {},
   "source": [
    "### RandomForestRegression - stroke dataset"
   ]
  },
  {
   "cell_type": "code",
   "execution_count": 31,
   "id": "ab92954b",
   "metadata": {},
   "outputs": [
    {
     "data": {
      "text/plain": [
       "RandomForestRegressor(n_estimators=500, random_state=7)"
      ]
     },
     "execution_count": 31,
     "metadata": {},
     "output_type": "execute_result"
    }
   ],
   "source": [
    "# Build the regressor\n",
    "rf = RandomForestRegressor(n_estimators = 500, random_state=7)\n",
    "rf.fit(X_train, y_train)"
   ]
  },
  {
   "cell_type": "code",
   "execution_count": 32,
   "id": "3bace684",
   "metadata": {},
   "outputs": [
    {
     "name": "stdout",
     "output_type": "stream",
     "text": [
      "The probability of having stroke is: [0.988 0.06  0.    0.    0.506 0.    0.994 0.    0.948 0.666 0.778 0.\n",
      " 0.31  0.    0.696 0.898 0.168 0.    0.012 0.47  0.72  0.956 0.994 0.984\n",
      " 0.794 0.88  0.    0.012 0.846 0.29  0.93  0.088 0.232 0.    0.166 0.\n",
      " 0.294 0.22  0.    0.714 0.802 0.998 0.744 0.262 0.88  0.932 0.952 0.\n",
      " 0.162 0.676 0.924 0.    0.866 0.936 0.872 0.878 0.276 0.818 0.028 0.666\n",
      " 0.41  0.416 0.914 0.734 0.952 0.    0.958 0.734 0.96  0.824 0.702 0.244\n",
      " 0.768 0.162 0.    0.    0.948 0.    0.278 0.18  0.522 0.    0.786 0.936\n",
      " 0.31  0.944 0.176 0.04  0.    0.452 0.012 0.244 0.79  0.    0.842 0.\n",
      " 0.21  0.95  0.    0.344 0.898 0.    0.296 0.484 0.556 0.564 0.136 0.558\n",
      " 0.376 0.366 0.18  0.97  0.872 0.778 0.972 0.804 0.978 0.436 0.046 0.14\n",
      " 0.    0.    0.828 0.768 0.324 0.    0.65  0.688 0.48  0.048 0.25  0.854\n",
      " 0.484 0.    0.128 0.    0.856 0.928]\n"
     ]
    }
   ],
   "source": [
    "# Predict the labels for the test set\n",
    "y_pred   = rf.predict(X_test)\n",
    "\n",
    "print('The probability of having stroke is: {}'.format(y_pred))"
   ]
  },
  {
   "cell_type": "code",
   "execution_count": 33,
   "id": "2eaea730",
   "metadata": {},
   "outputs": [
    {
     "name": "stdout",
     "output_type": "stream",
     "text": [
      "The mse of the model is: 0.18323513043478262\n"
     ]
    }
   ],
   "source": [
    "# Evaluate the Predictions\n",
    "mse = mean_squared_error(y_test, y_pred)\n",
    "\n",
    "print('The mse of the model is: {}'.format(mse))"
   ]
  },
  {
   "cell_type": "markdown",
   "id": "71f86785",
   "metadata": {},
   "source": [
    "> Summary: The RandomForestRegression model could help predict the possibility of having strokes. The mean squared error of this model, 0.183, was relatively low because it means that the model regression line was close to the data points of the test. "
   ]
  },
  {
   "cell_type": "markdown",
   "id": "4413e213",
   "metadata": {},
   "source": [
    "### K-fold Cross Validation - stroke dataset "
   ]
  },
  {
   "cell_type": "code",
   "execution_count": 34,
   "id": "0fd56052",
   "metadata": {},
   "outputs": [
    {
     "name": "stdout",
     "output_type": "stream",
     "text": [
      " The K-fold Cross-Validation model has a 0.71 accuracy with a standard deviation of 0.09\n"
     ]
    }
   ],
   "source": [
    "# Initiate K-fold CV \n",
    "cv = KFold(n_splits=10, random_state=1, shuffle=True)\n",
    "\n",
    "# Evaluate model\n",
    "scores = cross_val_score(RandomForestClassifier(), X, y, scoring='accuracy', cv=cv, n_jobs=-1)\n",
    "print(\" The K-fold Cross-Validation model has a %0.2f accuracy with a standard deviation of %0.2f\" % (scores.mean(), scores.std()))"
   ]
  },
  {
   "cell_type": "markdown",
   "id": "52a693bf",
   "metadata": {},
   "source": [
    "### SVM model - stroke dataset "
   ]
  },
  {
   "cell_type": "code",
   "execution_count": 35,
   "id": "972e93eb",
   "metadata": {},
   "outputs": [],
   "source": [
    "# Use the copy from the original dataset\n",
    "X_train_ = X_train.copy()\n",
    "X_test_  = X_test.copy()"
   ]
  },
  {
   "cell_type": "code",
   "execution_count": 36,
   "id": "2af4928f",
   "metadata": {},
   "outputs": [],
   "source": [
    "# Normalize the numeric features\n",
    "scaler = StandardScaler()\n",
    "scaler.fit(X_train_[['age', 'avg_glucose_level']])\n",
    "\n",
    "X_train_[['age', 'avg_glucose_level']] = scaler.transform(X_train_[['age', 'avg_glucose_level']])"
   ]
  },
  {
   "cell_type": "code",
   "execution_count": 37,
   "id": "90558db0",
   "metadata": {},
   "outputs": [
    {
     "data": {
      "text/html": [
       "<div>\n",
       "<style scoped>\n",
       "    .dataframe tbody tr th:only-of-type {\n",
       "        vertical-align: middle;\n",
       "    }\n",
       "\n",
       "    .dataframe tbody tr th {\n",
       "        vertical-align: top;\n",
       "    }\n",
       "\n",
       "    .dataframe thead th {\n",
       "        text-align: right;\n",
       "    }\n",
       "</style>\n",
       "<table border=\"1\" class=\"dataframe\">\n",
       "  <thead>\n",
       "    <tr style=\"text-align: right;\">\n",
       "      <th></th>\n",
       "      <th>age</th>\n",
       "      <th>hypertension</th>\n",
       "      <th>heart_disease</th>\n",
       "      <th>avg_glucose_level</th>\n",
       "    </tr>\n",
       "  </thead>\n",
       "  <tbody>\n",
       "    <tr>\n",
       "      <th>4221</th>\n",
       "      <td>0.771744</td>\n",
       "      <td>0</td>\n",
       "      <td>0</td>\n",
       "      <td>-0.359609</td>\n",
       "    </tr>\n",
       "    <tr>\n",
       "      <th>163</th>\n",
       "      <td>0.815966</td>\n",
       "      <td>0</td>\n",
       "      <td>0</td>\n",
       "      <td>-0.824473</td>\n",
       "    </tr>\n",
       "    <tr>\n",
       "      <th>3825</th>\n",
       "      <td>-1.395153</td>\n",
       "      <td>0</td>\n",
       "      <td>0</td>\n",
       "      <td>-0.295345</td>\n",
       "    </tr>\n",
       "    <tr>\n",
       "      <th>2164</th>\n",
       "      <td>-1.704709</td>\n",
       "      <td>0</td>\n",
       "      <td>0</td>\n",
       "      <td>-0.763353</td>\n",
       "    </tr>\n",
       "    <tr>\n",
       "      <th>3448</th>\n",
       "      <td>-2.383965</td>\n",
       "      <td>0</td>\n",
       "      <td>0</td>\n",
       "      <td>-0.692977</td>\n",
       "    </tr>\n",
       "    <tr>\n",
       "      <th>53</th>\n",
       "      <td>0.639076</td>\n",
       "      <td>0</td>\n",
       "      <td>0</td>\n",
       "      <td>1.735948</td>\n",
       "    </tr>\n",
       "    <tr>\n",
       "      <th>4293</th>\n",
       "      <td>-0.687595</td>\n",
       "      <td>0</td>\n",
       "      <td>0</td>\n",
       "      <td>-0.993340</td>\n",
       "    </tr>\n",
       "    <tr>\n",
       "      <th>4</th>\n",
       "      <td>1.125523</td>\n",
       "      <td>0</td>\n",
       "      <td>0</td>\n",
       "      <td>1.118283</td>\n",
       "    </tr>\n",
       "    <tr>\n",
       "      <th>43</th>\n",
       "      <td>0.948633</td>\n",
       "      <td>1</td>\n",
       "      <td>0</td>\n",
       "      <td>0.034181</td>\n",
       "    </tr>\n",
       "    <tr>\n",
       "      <th>37</th>\n",
       "      <td>0.196853</td>\n",
       "      <td>1</td>\n",
       "      <td>0</td>\n",
       "      <td>1.586640</td>\n",
       "    </tr>\n",
       "  </tbody>\n",
       "</table>\n",
       "</div>"
      ],
      "text/plain": [
       "           age  hypertension  heart_disease  avg_glucose_level\n",
       "4221  0.771744             0              0          -0.359609\n",
       "163   0.815966             0              0          -0.824473\n",
       "3825 -1.395153             0              0          -0.295345\n",
       "2164 -1.704709             0              0          -0.763353\n",
       "3448 -2.383965             0              0          -0.692977\n",
       "53    0.639076             0              0           1.735948\n",
       "4293 -0.687595             0              0          -0.993340\n",
       "4     1.125523             0              0           1.118283\n",
       "43    0.948633             1              0           0.034181\n",
       "37    0.196853             1              0           1.586640"
      ]
     },
     "execution_count": 37,
     "metadata": {},
     "output_type": "execute_result"
    }
   ],
   "source": [
    "# View the prepared data\n",
    "X_train_.head(10)"
   ]
  },
  {
   "cell_type": "code",
   "execution_count": 38,
   "id": "a61c6b3a",
   "metadata": {},
   "outputs": [
    {
     "data": {
      "text/plain": [
       "SVC()"
      ]
     },
     "execution_count": 38,
     "metadata": {},
     "output_type": "execute_result"
    }
   ],
   "source": [
    "# Initialize the classifier\n",
    "svm = SVC() \n",
    "svm.fit(X_train_, y_train) "
   ]
  },
  {
   "cell_type": "code",
   "execution_count": 39,
   "id": "7b455d35",
   "metadata": {},
   "outputs": [
    {
     "name": "stdout",
     "output_type": "stream",
     "text": [
      "The predicted presence of a stroke is: [1 0 0 0 0 0 1 0 1 1 1 0 1 0 1 0 0 0 0 0 1 1 1 1 1 1 0 0 0 0 1 1 0 0 0 0 1\n",
      " 0 0 1 1 1 1 0 1 1 1 0 0 0 1 0 1 1 1 1 0 0 0 1 1 0 1 1 1 0 1 1 1 1 1 0 1 0\n",
      " 0 0 1 0 0 1 1 0 0 1 0 1 0 0 0 1 0 0 1 0 1 0 1 1 0 0 1 0 0 0 1 0 0 1 1 1 0\n",
      " 1 1 1 1 1 1 1 0 0 0 0 1 0 1 0 1 1 0 0 1 0 0 0 0 0 1 1].\n"
     ]
    }
   ],
   "source": [
    "# Encode & scale the new/test data\n",
    "X_test_[['age', 'avg_glucose_level']] = scaler.transform(X_test_[['age', 'avg_glucose_level']]) \n",
    "\n",
    "\n",
    "# Predict the labels for the test set\n",
    "y_pred   = svm.predict(X_test_)\n",
    "\n",
    "print(f'The predicted presence of a stroke is: {y_pred}.')"
   ]
  },
  {
   "cell_type": "code",
   "execution_count": 40,
   "id": "2ac8c6b0",
   "metadata": {},
   "outputs": [
    {
     "name": "stdout",
     "output_type": "stream",
     "text": [
      "The accuracy of the model is: 0.7608695652173914\n"
     ]
    }
   ],
   "source": [
    "# Evaluate the prediction accuracy\n",
    "print('The accuracy of the model is: {}'.format(svm.score(X_test_, y_test)))"
   ]
  },
  {
   "cell_type": "code",
   "execution_count": 41,
   "id": "46b68a26",
   "metadata": {},
   "outputs": [
    {
     "name": "stdout",
     "output_type": "stream",
     "text": [
      "              precision    recall  f1-score   support\n",
      "\n",
      "  Non stroke       0.76      0.77      0.76        69\n",
      "      Stroke       0.76      0.75      0.76        69\n",
      "\n",
      "    accuracy                           0.76       138\n",
      "   macro avg       0.76      0.76      0.76       138\n",
      "weighted avg       0.76      0.76      0.76       138\n",
      "\n"
     ]
    }
   ],
   "source": [
    "# Produce the classification report \n",
    "target_names = [\"Non stroke\", \"Stroke\"]\n",
    "print(classification_report(y_test, y_pred, target_names = target_names))"
   ]
  },
  {
   "cell_type": "markdown",
   "id": "322c8ec1",
   "metadata": {},
   "source": [
    "> Summary: Using the SVM model, we could see that the stroke prediction increased based on the classification report compared to the report generated from the RandomForestClassifier. The f-1 score of this model also increased slightly. "
   ]
  },
  {
   "cell_type": "code",
   "execution_count": 42,
   "id": "fd998c1c",
   "metadata": {},
   "outputs": [
    {
     "name": "stdout",
     "output_type": "stream",
     "text": [
      "The best parameters from the model is {'C': 2, 'gamma': 1, 'kernel': 'rbf'}.\n",
      "The best score that was obtained from the model is 0.7535714285714286.\n"
     ]
    }
   ],
   "source": [
    "params = {'C': np.arange(1,10),     \n",
    "          'kernel': ('linear','poly','rbf'),\n",
    "          'gamma': np.arange(1,5)}\n",
    "\n",
    "svm = SVC()\n",
    "\n",
    "# Initialize Grid Search with Cross Validation\n",
    "svm_grid = GridSearchCV(estimator = svm, param_grid = params, cv=5) \n",
    "svm_grid.fit(X_train_, y_train)\n",
    "\n",
    "print(f'The best parameters from the model is {svm_grid.best_params_}.')\n",
    "print(f'The best score that was obtained from the model is {svm_grid.best_score_}.')"
   ]
  },
  {
   "cell_type": "code",
   "execution_count": 43,
   "id": "34741b71",
   "metadata": {},
   "outputs": [
    {
     "name": "stdout",
     "output_type": "stream",
     "text": [
      "The best parameters from the model is {'C': 2, 'gamma': 1, 'kernel': 'rbf'}.\n",
      "The best score that was obtained from the model is 0.7535714285714286.\n"
     ]
    }
   ],
   "source": [
    "params = {'C': np.arange(1,10),     \n",
    "          'kernel': ('linear','poly','rbf'),\n",
    "          'gamma': np.arange(1,5)}\n",
    "\n",
    "svm = SVC()\n",
    "\n",
    "# Initialize Grid Search with Cross Validation and return the training score\n",
    "svm_grid = GridSearchCV(estimator = svm, param_grid = params, cv=5, return_train_score = True) \n",
    "svm_grid.fit(X_train_, y_train)\n",
    "\n",
    "print(f'The best parameters from the model is {svm_grid.best_params_}.')\n",
    "print(f'The best score that was obtained from the model is {svm_grid.best_score_}.')"
   ]
  },
  {
   "cell_type": "code",
   "execution_count": 44,
   "id": "fe8ffde5",
   "metadata": {},
   "outputs": [
    {
     "data": {
      "text/html": [
       "<div>\n",
       "<style scoped>\n",
       "    .dataframe tbody tr th:only-of-type {\n",
       "        vertical-align: middle;\n",
       "    }\n",
       "\n",
       "    .dataframe tbody tr th {\n",
       "        vertical-align: top;\n",
       "    }\n",
       "\n",
       "    .dataframe thead th {\n",
       "        text-align: right;\n",
       "    }\n",
       "</style>\n",
       "<table border=\"1\" class=\"dataframe\">\n",
       "  <thead>\n",
       "    <tr style=\"text-align: right;\">\n",
       "      <th></th>\n",
       "      <th>mean_train_score</th>\n",
       "      <th>std_train_score</th>\n",
       "      <th>mean_test_score</th>\n",
       "      <th>std_test_score</th>\n",
       "    </tr>\n",
       "  </thead>\n",
       "  <tbody>\n",
       "    <tr>\n",
       "      <th>14</th>\n",
       "      <td>0.788393</td>\n",
       "      <td>0.012500</td>\n",
       "      <td>0.753571</td>\n",
       "      <td>0.034626</td>\n",
       "    </tr>\n",
       "    <tr>\n",
       "      <th>8</th>\n",
       "      <td>0.807143</td>\n",
       "      <td>0.011080</td>\n",
       "      <td>0.753571</td>\n",
       "      <td>0.047110</td>\n",
       "    </tr>\n",
       "    <tr>\n",
       "      <th>2</th>\n",
       "      <td>0.781250</td>\n",
       "      <td>0.013541</td>\n",
       "      <td>0.750000</td>\n",
       "      <td>0.033882</td>\n",
       "    </tr>\n",
       "    <tr>\n",
       "      <th>5</th>\n",
       "      <td>0.794643</td>\n",
       "      <td>0.008470</td>\n",
       "      <td>0.750000</td>\n",
       "      <td>0.039123</td>\n",
       "    </tr>\n",
       "    <tr>\n",
       "      <th>0</th>\n",
       "      <td>0.758036</td>\n",
       "      <td>0.008657</td>\n",
       "      <td>0.750000</td>\n",
       "      <td>0.031944</td>\n",
       "    </tr>\n",
       "    <tr>\n",
       "      <th>...</th>\n",
       "      <td>...</td>\n",
       "      <td>...</td>\n",
       "      <td>...</td>\n",
       "      <td>...</td>\n",
       "    </tr>\n",
       "    <tr>\n",
       "      <th>104</th>\n",
       "      <td>0.850893</td>\n",
       "      <td>0.007254</td>\n",
       "      <td>0.685714</td>\n",
       "      <td>0.060398</td>\n",
       "    </tr>\n",
       "    <tr>\n",
       "      <th>71</th>\n",
       "      <td>0.858929</td>\n",
       "      <td>0.007784</td>\n",
       "      <td>0.682143</td>\n",
       "      <td>0.055787</td>\n",
       "    </tr>\n",
       "    <tr>\n",
       "      <th>83</th>\n",
       "      <td>0.861607</td>\n",
       "      <td>0.006313</td>\n",
       "      <td>0.675000</td>\n",
       "      <td>0.060187</td>\n",
       "    </tr>\n",
       "    <tr>\n",
       "      <th>107</th>\n",
       "      <td>0.867857</td>\n",
       "      <td>0.013122</td>\n",
       "      <td>0.675000</td>\n",
       "      <td>0.060187</td>\n",
       "    </tr>\n",
       "    <tr>\n",
       "      <th>95</th>\n",
       "      <td>0.865179</td>\n",
       "      <td>0.011778</td>\n",
       "      <td>0.671429</td>\n",
       "      <td>0.057143</td>\n",
       "    </tr>\n",
       "  </tbody>\n",
       "</table>\n",
       "<p>108 rows × 4 columns</p>\n",
       "</div>"
      ],
      "text/plain": [
       "     mean_train_score  std_train_score  mean_test_score  std_test_score\n",
       "14           0.788393         0.012500         0.753571        0.034626\n",
       "8            0.807143         0.011080         0.753571        0.047110\n",
       "2            0.781250         0.013541         0.750000        0.033882\n",
       "5            0.794643         0.008470         0.750000        0.039123\n",
       "0            0.758036         0.008657         0.750000        0.031944\n",
       "..                ...              ...              ...             ...\n",
       "104          0.850893         0.007254         0.685714        0.060398\n",
       "71           0.858929         0.007784         0.682143        0.055787\n",
       "83           0.861607         0.006313         0.675000        0.060187\n",
       "107          0.867857         0.013122         0.675000        0.060187\n",
       "95           0.865179         0.011778         0.671429        0.057143\n",
       "\n",
       "[108 rows x 4 columns]"
      ]
     },
     "execution_count": 44,
     "metadata": {},
     "output_type": "execute_result"
    }
   ],
   "source": [
    "# Display the cv results for the train and test set\n",
    "cv_results = pd.DataFrame(svm_grid.cv_results_)\n",
    "cv_results = cv_results.sort_values('mean_test_score', ascending=False)\n",
    "cv_results[['mean_train_score', 'std_train_score', 'mean_test_score', 'std_test_score']]"
   ]
  },
  {
   "cell_type": "markdown",
   "id": "fb6c3110",
   "metadata": {},
   "source": [
    "> Summary: After a few hyperparameter tunings, we could see that the best mean_test_score is 0.7536, and the corresponding mean_train_score is 0.7884. Although these scores are not perfectly high, they still represented moderate to high SVM model prediction of the presence of strokes. Moreover, the difference between these parameters is small, and thereby it is unlikely the model is underfitting or overfitting."
   ]
  },
  {
   "cell_type": "markdown",
   "id": "b2f543b3",
   "metadata": {},
   "source": [
    "##### Use the best hyperparameter obtained above to test the accuracy of test set"
   ]
  },
  {
   "cell_type": "code",
   "execution_count": 45,
   "id": "101870f0",
   "metadata": {},
   "outputs": [
    {
     "data": {
      "text/plain": [
       "SVC(C=2, gamma=1)"
      ]
     },
     "execution_count": 45,
     "metadata": {},
     "output_type": "execute_result"
    }
   ],
   "source": [
    "# Initialize the classifier\n",
    "svm = SVC(C = 2, gamma= 1, kernel= 'rbf') \n",
    "svm.fit(X_train_, y_train) "
   ]
  },
  {
   "cell_type": "code",
   "execution_count": 46,
   "id": "1c2f2e5e",
   "metadata": {},
   "outputs": [
    {
     "name": "stdout",
     "output_type": "stream",
     "text": [
      "The predicted VB is: [1 0 0 0 0 0 1 0 1 1 1 0 1 0 1 1 0 0 0 0 1 1 1 1 0 1 0 0 0 1 1 1 0 0 0 0 1\n",
      " 0 0 1 1 1 1 0 1 1 1 0 0 0 1 0 1 1 1 1 0 0 0 1 1 0 1 1 1 0 1 1 1 1 1 0 1 0\n",
      " 0 0 1 0 0 1 1 0 0 1 0 1 0 0 0 1 0 0 1 0 1 0 1 1 0 0 1 0 0 0 1 0 0 1 1 1 0\n",
      " 1 1 1 1 1 1 1 0 0 0 0 1 1 1 0 1 1 0 0 1 0 0 0 0 0 1 1].\n"
     ]
    }
   ],
   "source": [
    "# Predict the labels for the test set\n",
    "y_pred   = svm.predict(X_test_)\n",
    "\n",
    "print(f'The predicted VB is: {y_pred}.')"
   ]
  },
  {
   "cell_type": "code",
   "execution_count": 47,
   "id": "b4209ae2",
   "metadata": {},
   "outputs": [
    {
     "name": "stdout",
     "output_type": "stream",
     "text": [
      "The accuracy of the model is: 0.7753623188405797\n"
     ]
    }
   ],
   "source": [
    "# Evaluate the prediction accuracy\n",
    "print('The accuracy of the model is: {}'.format(svm.score(X_test_, y_test)))"
   ]
  },
  {
   "cell_type": "markdown",
   "id": "29aa2378",
   "metadata": {},
   "source": [
    "> Summary: When applying the best hyperparameters to the model, the model accuracy increased to 77.5%, compared to the previous 76.1%. Therefore, the SVM model is not underfitting or overfitting. "
   ]
  }
 ],
 "metadata": {
  "kernelspec": {
   "display_name": "Python 3",
   "language": "python",
   "name": "python3"
  },
  "language_info": {
   "codemirror_mode": {
    "name": "ipython",
    "version": 3
   },
   "file_extension": ".py",
   "mimetype": "text/x-python",
   "name": "python",
   "nbconvert_exporter": "python",
   "pygments_lexer": "ipython3",
   "version": "3.8.8"
  }
 },
 "nbformat": 4,
 "nbformat_minor": 5
}
